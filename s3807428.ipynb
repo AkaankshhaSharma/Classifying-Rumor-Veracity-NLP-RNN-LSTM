{
  "nbformat": 4,
  "nbformat_minor": 0,
  "metadata": {
    "colab": {
      "name": "s3807428_Deep_Learning_Assign2.ipynb",
      "provenance": [],
      "collapsed_sections": []
    },
    "kernelspec": {
      "name": "python3",
      "display_name": "Python 3"
    },
    "language_info": {
      "name": "python"
    },
    "accelerator": "GPU"
  },
  "cells": [
    {
      "cell_type": "markdown",
      "metadata": {
        "id": "tEe09jqbOUPO"
      },
      "source": [
        "## Assignment 2"
      ]
    },
    {
      "cell_type": "code",
      "metadata": {
        "colab": {
          "base_uri": "https://localhost:8080/"
        },
        "id": "Wtzg_zxMOhP1",
        "outputId": "f93ef783-dd06-4041-8cbc-15d067df6ef6"
      },
      "source": [
        "! pip install tensorflow-addons"
      ],
      "execution_count": 1,
      "outputs": [
        {
          "output_type": "stream",
          "name": "stdout",
          "text": [
            "Collecting tensorflow-addons\n",
            "  Downloading tensorflow_addons-0.14.0-cp37-cp37m-manylinux_2_12_x86_64.manylinux2010_x86_64.whl (1.1 MB)\n",
            "\u001b[?25l\r\u001b[K     |▎                               | 10 kB 20.4 MB/s eta 0:00:01\r\u001b[K     |▋                               | 20 kB 24.0 MB/s eta 0:00:01\r\u001b[K     |▉                               | 30 kB 28.1 MB/s eta 0:00:01\r\u001b[K     |█▏                              | 40 kB 22.7 MB/s eta 0:00:01\r\u001b[K     |█▌                              | 51 kB 16.7 MB/s eta 0:00:01\r\u001b[K     |█▊                              | 61 kB 13.2 MB/s eta 0:00:01\r\u001b[K     |██                              | 71 kB 11.8 MB/s eta 0:00:01\r\u001b[K     |██▍                             | 81 kB 12.8 MB/s eta 0:00:01\r\u001b[K     |██▋                             | 92 kB 12.8 MB/s eta 0:00:01\r\u001b[K     |███                             | 102 kB 13.5 MB/s eta 0:00:01\r\u001b[K     |███▎                            | 112 kB 13.5 MB/s eta 0:00:01\r\u001b[K     |███▌                            | 122 kB 13.5 MB/s eta 0:00:01\r\u001b[K     |███▉                            | 133 kB 13.5 MB/s eta 0:00:01\r\u001b[K     |████▏                           | 143 kB 13.5 MB/s eta 0:00:01\r\u001b[K     |████▍                           | 153 kB 13.5 MB/s eta 0:00:01\r\u001b[K     |████▊                           | 163 kB 13.5 MB/s eta 0:00:01\r\u001b[K     |█████                           | 174 kB 13.5 MB/s eta 0:00:01\r\u001b[K     |█████▎                          | 184 kB 13.5 MB/s eta 0:00:01\r\u001b[K     |█████▋                          | 194 kB 13.5 MB/s eta 0:00:01\r\u001b[K     |██████                          | 204 kB 13.5 MB/s eta 0:00:01\r\u001b[K     |██████▏                         | 215 kB 13.5 MB/s eta 0:00:01\r\u001b[K     |██████▌                         | 225 kB 13.5 MB/s eta 0:00:01\r\u001b[K     |██████▉                         | 235 kB 13.5 MB/s eta 0:00:01\r\u001b[K     |███████                         | 245 kB 13.5 MB/s eta 0:00:01\r\u001b[K     |███████▍                        | 256 kB 13.5 MB/s eta 0:00:01\r\u001b[K     |███████▊                        | 266 kB 13.5 MB/s eta 0:00:01\r\u001b[K     |████████                        | 276 kB 13.5 MB/s eta 0:00:01\r\u001b[K     |████████▎                       | 286 kB 13.5 MB/s eta 0:00:01\r\u001b[K     |████████▋                       | 296 kB 13.5 MB/s eta 0:00:01\r\u001b[K     |████████▉                       | 307 kB 13.5 MB/s eta 0:00:01\r\u001b[K     |█████████▏                      | 317 kB 13.5 MB/s eta 0:00:01\r\u001b[K     |█████████▌                      | 327 kB 13.5 MB/s eta 0:00:01\r\u001b[K     |█████████▊                      | 337 kB 13.5 MB/s eta 0:00:01\r\u001b[K     |██████████                      | 348 kB 13.5 MB/s eta 0:00:01\r\u001b[K     |██████████▍                     | 358 kB 13.5 MB/s eta 0:00:01\r\u001b[K     |██████████▋                     | 368 kB 13.5 MB/s eta 0:00:01\r\u001b[K     |███████████                     | 378 kB 13.5 MB/s eta 0:00:01\r\u001b[K     |███████████▎                    | 389 kB 13.5 MB/s eta 0:00:01\r\u001b[K     |███████████▌                    | 399 kB 13.5 MB/s eta 0:00:01\r\u001b[K     |███████████▉                    | 409 kB 13.5 MB/s eta 0:00:01\r\u001b[K     |████████████▏                   | 419 kB 13.5 MB/s eta 0:00:01\r\u001b[K     |████████████▍                   | 430 kB 13.5 MB/s eta 0:00:01\r\u001b[K     |████████████▊                   | 440 kB 13.5 MB/s eta 0:00:01\r\u001b[K     |█████████████                   | 450 kB 13.5 MB/s eta 0:00:01\r\u001b[K     |█████████████▎                  | 460 kB 13.5 MB/s eta 0:00:01\r\u001b[K     |█████████████▋                  | 471 kB 13.5 MB/s eta 0:00:01\r\u001b[K     |██████████████                  | 481 kB 13.5 MB/s eta 0:00:01\r\u001b[K     |██████████████▏                 | 491 kB 13.5 MB/s eta 0:00:01\r\u001b[K     |██████████████▌                 | 501 kB 13.5 MB/s eta 0:00:01\r\u001b[K     |██████████████▉                 | 512 kB 13.5 MB/s eta 0:00:01\r\u001b[K     |███████████████                 | 522 kB 13.5 MB/s eta 0:00:01\r\u001b[K     |███████████████▍                | 532 kB 13.5 MB/s eta 0:00:01\r\u001b[K     |███████████████▊                | 542 kB 13.5 MB/s eta 0:00:01\r\u001b[K     |████████████████                | 552 kB 13.5 MB/s eta 0:00:01\r\u001b[K     |████████████████▎               | 563 kB 13.5 MB/s eta 0:00:01\r\u001b[K     |████████████████▋               | 573 kB 13.5 MB/s eta 0:00:01\r\u001b[K     |████████████████▉               | 583 kB 13.5 MB/s eta 0:00:01\r\u001b[K     |█████████████████▏              | 593 kB 13.5 MB/s eta 0:00:01\r\u001b[K     |█████████████████▌              | 604 kB 13.5 MB/s eta 0:00:01\r\u001b[K     |█████████████████▊              | 614 kB 13.5 MB/s eta 0:00:01\r\u001b[K     |██████████████████              | 624 kB 13.5 MB/s eta 0:00:01\r\u001b[K     |██████████████████▍             | 634 kB 13.5 MB/s eta 0:00:01\r\u001b[K     |██████████████████▋             | 645 kB 13.5 MB/s eta 0:00:01\r\u001b[K     |███████████████████             | 655 kB 13.5 MB/s eta 0:00:01\r\u001b[K     |███████████████████▎            | 665 kB 13.5 MB/s eta 0:00:01\r\u001b[K     |███████████████████▌            | 675 kB 13.5 MB/s eta 0:00:01\r\u001b[K     |███████████████████▉            | 686 kB 13.5 MB/s eta 0:00:01\r\u001b[K     |████████████████████▏           | 696 kB 13.5 MB/s eta 0:00:01\r\u001b[K     |████████████████████▍           | 706 kB 13.5 MB/s eta 0:00:01\r\u001b[K     |████████████████████▊           | 716 kB 13.5 MB/s eta 0:00:01\r\u001b[K     |█████████████████████           | 727 kB 13.5 MB/s eta 0:00:01\r\u001b[K     |█████████████████████▎          | 737 kB 13.5 MB/s eta 0:00:01\r\u001b[K     |█████████████████████▋          | 747 kB 13.5 MB/s eta 0:00:01\r\u001b[K     |██████████████████████          | 757 kB 13.5 MB/s eta 0:00:01\r\u001b[K     |██████████████████████▏         | 768 kB 13.5 MB/s eta 0:00:01\r\u001b[K     |██████████████████████▌         | 778 kB 13.5 MB/s eta 0:00:01\r\u001b[K     |██████████████████████▉         | 788 kB 13.5 MB/s eta 0:00:01\r\u001b[K     |███████████████████████         | 798 kB 13.5 MB/s eta 0:00:01\r\u001b[K     |███████████████████████▍        | 808 kB 13.5 MB/s eta 0:00:01\r\u001b[K     |███████████████████████▊        | 819 kB 13.5 MB/s eta 0:00:01\r\u001b[K     |████████████████████████        | 829 kB 13.5 MB/s eta 0:00:01\r\u001b[K     |████████████████████████▎       | 839 kB 13.5 MB/s eta 0:00:01\r\u001b[K     |████████████████████████▋       | 849 kB 13.5 MB/s eta 0:00:01\r\u001b[K     |████████████████████████▉       | 860 kB 13.5 MB/s eta 0:00:01\r\u001b[K     |█████████████████████████▏      | 870 kB 13.5 MB/s eta 0:00:01\r\u001b[K     |█████████████████████████▍      | 880 kB 13.5 MB/s eta 0:00:01\r\u001b[K     |█████████████████████████▊      | 890 kB 13.5 MB/s eta 0:00:01\r\u001b[K     |██████████████████████████      | 901 kB 13.5 MB/s eta 0:00:01\r\u001b[K     |██████████████████████████▎     | 911 kB 13.5 MB/s eta 0:00:01\r\u001b[K     |██████████████████████████▋     | 921 kB 13.5 MB/s eta 0:00:01\r\u001b[K     |███████████████████████████     | 931 kB 13.5 MB/s eta 0:00:01\r\u001b[K     |███████████████████████████▏    | 942 kB 13.5 MB/s eta 0:00:01\r\u001b[K     |███████████████████████████▌    | 952 kB 13.5 MB/s eta 0:00:01\r\u001b[K     |███████████████████████████▉    | 962 kB 13.5 MB/s eta 0:00:01\r\u001b[K     |████████████████████████████    | 972 kB 13.5 MB/s eta 0:00:01\r\u001b[K     |████████████████████████████▍   | 983 kB 13.5 MB/s eta 0:00:01\r\u001b[K     |████████████████████████████▊   | 993 kB 13.5 MB/s eta 0:00:01\r\u001b[K     |█████████████████████████████   | 1.0 MB 13.5 MB/s eta 0:00:01\r\u001b[K     |█████████████████████████████▎  | 1.0 MB 13.5 MB/s eta 0:00:01\r\u001b[K     |█████████████████████████████▋  | 1.0 MB 13.5 MB/s eta 0:00:01\r\u001b[K     |█████████████████████████████▉  | 1.0 MB 13.5 MB/s eta 0:00:01\r\u001b[K     |██████████████████████████████▏ | 1.0 MB 13.5 MB/s eta 0:00:01\r\u001b[K     |██████████████████████████████▌ | 1.1 MB 13.5 MB/s eta 0:00:01\r\u001b[K     |██████████████████████████████▊ | 1.1 MB 13.5 MB/s eta 0:00:01\r\u001b[K     |███████████████████████████████ | 1.1 MB 13.5 MB/s eta 0:00:01\r\u001b[K     |███████████████████████████████▍| 1.1 MB 13.5 MB/s eta 0:00:01\r\u001b[K     |███████████████████████████████▋| 1.1 MB 13.5 MB/s eta 0:00:01\r\u001b[K     |████████████████████████████████| 1.1 MB 13.5 MB/s eta 0:00:01\r\u001b[K     |████████████████████████████████| 1.1 MB 13.5 MB/s \n",
            "\u001b[?25hRequirement already satisfied: typeguard>=2.7 in /usr/local/lib/python3.7/dist-packages (from tensorflow-addons) (2.7.1)\n",
            "Installing collected packages: tensorflow-addons\n",
            "Successfully installed tensorflow-addons-0.14.0\n"
          ]
        }
      ]
    },
    {
      "cell_type": "code",
      "metadata": {
        "colab": {
          "base_uri": "https://localhost:8080/"
        },
        "id": "AYSv_R7AOhaR",
        "outputId": "e4eb256d-4a9e-4d21-bbe6-a42bf9942e8b"
      },
      "source": [
        "!pip install nltk"
      ],
      "execution_count": 2,
      "outputs": [
        {
          "output_type": "stream",
          "name": "stdout",
          "text": [
            "Requirement already satisfied: nltk in /usr/local/lib/python3.7/dist-packages (3.2.5)\n",
            "Requirement already satisfied: six in /usr/local/lib/python3.7/dist-packages (from nltk) (1.15.0)\n"
          ]
        }
      ]
    },
    {
      "cell_type": "code",
      "metadata": {
        "id": "Yl10WauXuIen",
        "colab": {
          "base_uri": "https://localhost:8080/"
        },
        "outputId": "18801e83-0709-448e-9808-72dec49b77b8"
      },
      "source": [
        "#load the packages\n",
        "import tensorflow as tf\n",
        "AUTOTUNE = tf.data.experimental.AUTOTUNE\n",
        "import numpy as np\n",
        "import pandas as pd\n",
        "\n",
        "import tensorflow_datasets as tfds\n",
        "import pathlib\n",
        "import shutil\n",
        "import tempfile\n",
        "\n",
        "from sklearn.metrics import classification_report\n",
        "import tensorflow_datasets as tfds\n",
        "import pathlib\n",
        "import shutil\n",
        "from sklearn.metrics import confusion_matrix\n",
        "from keras.layers import Input, Embedding, LSTM, Dense,Bidirectional,GRU\n",
        "from keras.models import Model\n",
        "\n",
        "from sklearn.preprocessing import LabelEncoder\n",
        "from sklearn.feature_extraction.text import CountVectorizer\n",
        "from keras.preprocessing.text import Tokenizer\n",
        "from keras.preprocessing.sequence import pad_sequences\n",
        "from keras.models import Sequential\n",
        "from keras.layers import Dense, Embedding, LSTM, SpatialDropout1D\n",
        "from sklearn.utils.class_weight import compute_class_weight\n",
        "\n",
        "from  IPython import display\n",
        "from matplotlib import pyplot as plt\n",
        "\n",
        "import tensorflow_addons as tfa\n",
        "\n",
        "import string\n",
        "import nltk\n",
        "nltk.download('punkt')\n",
        "from nltk.tokenize import word_tokenize\n",
        "from nltk.corpus import stopwords\n",
        "\n",
        "nltk.download('stopwords')\n",
        "import re                                                       \n",
        "from nltk.stem import PorterStemmer\n"
      ],
      "execution_count": 3,
      "outputs": [
        {
          "output_type": "stream",
          "name": "stdout",
          "text": [
            "[nltk_data] Downloading package punkt to /root/nltk_data...\n",
            "[nltk_data]   Unzipping tokenizers/punkt.zip.\n",
            "[nltk_data] Downloading package stopwords to /root/nltk_data...\n",
            "[nltk_data]   Unzipping corpora/stopwords.zip.\n"
          ]
        }
      ]
    },
    {
      "cell_type": "code",
      "metadata": {
        "colab": {
          "base_uri": "https://localhost:8080/"
        },
        "id": "ULD2jpDBwMvt",
        "outputId": "3cdf0027-f188-4a44-fdb2-1068cfc21d20"
      },
      "source": [
        "#loading the dataset, download data from colab\n",
        "from google.colab import drive\n",
        "drive.mount('/content/drive')\n"
      ],
      "execution_count": 159,
      "outputs": [
        {
          "output_type": "stream",
          "name": "stdout",
          "text": [
            "Drive already mounted at /content/drive; to attempt to forcibly remount, call drive.mount(\"/content/drive\", force_remount=True).\n"
          ]
        }
      ]
    },
    {
      "cell_type": "code",
      "metadata": {
        "id": "p7dSgRUbwMxy"
      },
      "source": [
        "import zipfile\n",
        "with zipfile.ZipFile('/content/drive/MyDrive/Assign2/Rumour_data.zip', 'r') as zip_ref:\n",
        "    zip_ref.extractall('./')"
      ],
      "execution_count": 156,
      "outputs": []
    },
    {
      "cell_type": "code",
      "metadata": {
        "id": "J-_X98QDwM1J"
      },
      "source": [
        "twitter_data = pd.read_csv('./Rumour_data/twitter_dataset.csv')\n",
        "reddit_dataset = pd.read_csv('./Rumour_data/Extra_reddit_dataset.csv')"
      ],
      "execution_count": 157,
      "outputs": []
    },
    {
      "cell_type": "code",
      "metadata": {
        "colab": {
          "base_uri": "https://localhost:8080/"
        },
        "id": "zT6l0TyQwM3I",
        "outputId": "e83d5f79-fe28-4860-df5c-8a78bc3d54ae"
      },
      "source": [
        "twitter_data.shape"
      ],
      "execution_count": 7,
      "outputs": [
        {
          "output_type": "execute_result",
          "data": {
            "text/plain": [
              "(6634, 6)"
            ]
          },
          "metadata": {},
          "execution_count": 7
        }
      ]
    },
    {
      "cell_type": "code",
      "metadata": {
        "colab": {
          "base_uri": "https://localhost:8080/"
        },
        "id": "QTisHkhe2lBK",
        "outputId": "ccc9233d-0df4-4f05-fea5-b9033cf78db2"
      },
      "source": [
        "reddit_dataset.shape"
      ],
      "execution_count": 8,
      "outputs": [
        {
          "output_type": "execute_result",
          "data": {
            "text/plain": [
              "(2471, 6)"
            ]
          },
          "metadata": {},
          "execution_count": 8
        }
      ]
    },
    {
      "cell_type": "code",
      "metadata": {
        "id": "pNQLmD9PwM6F"
      },
      "source": [
        "mergedData = pd.concat([twitter_data, reddit_dataset],ignore_index=True)"
      ],
      "execution_count": 9,
      "outputs": []
    },
    {
      "cell_type": "code",
      "metadata": {
        "colab": {
          "base_uri": "https://localhost:8080/"
        },
        "id": "QbI322ZXwM83",
        "outputId": "927a5568-1e8a-44a1-cf20-e1c06540fe7e"
      },
      "source": [
        "mergedData.shape"
      ],
      "execution_count": 10,
      "outputs": [
        {
          "output_type": "execute_result",
          "data": {
            "text/plain": [
              "(9105, 6)"
            ]
          },
          "metadata": {},
          "execution_count": 10
        }
      ]
    },
    {
      "cell_type": "code",
      "metadata": {
        "colab": {
          "base_uri": "https://localhost:8080/",
          "height": 204
        },
        "id": "bgAdjnEw2yL8",
        "outputId": "9b298a91-8c47-4751-cf51-4b27f891970c"
      },
      "source": [
        "mergedData.head()"
      ],
      "execution_count": 11,
      "outputs": [
        {
          "output_type": "execute_result",
          "data": {
            "text/html": [
              "<div>\n",
              "<style scoped>\n",
              "    .dataframe tbody tr th:only-of-type {\n",
              "        vertical-align: middle;\n",
              "    }\n",
              "\n",
              "    .dataframe tbody tr th {\n",
              "        vertical-align: top;\n",
              "    }\n",
              "\n",
              "    .dataframe thead th {\n",
              "        text-align: right;\n",
              "    }\n",
              "</style>\n",
              "<table border=\"1\" class=\"dataframe\">\n",
              "  <thead>\n",
              "    <tr style=\"text-align: right;\">\n",
              "      <th></th>\n",
              "      <th>Type</th>\n",
              "      <th>Msg_ID</th>\n",
              "      <th>Source_Msg_ID</th>\n",
              "      <th>Text</th>\n",
              "      <th>Topic</th>\n",
              "      <th>Class</th>\n",
              "    </tr>\n",
              "  </thead>\n",
              "  <tbody>\n",
              "    <tr>\n",
              "      <th>0</th>\n",
              "      <td>Source</td>\n",
              "      <td>5.81063e+17</td>\n",
              "      <td>-1</td>\n",
              "      <td>#4U9525: Robin names Andreas Lubitz as the cop...</td>\n",
              "      <td>germanwings-crash</td>\n",
              "      <td>-1</td>\n",
              "    </tr>\n",
              "    <tr>\n",
              "      <th>1</th>\n",
              "      <td>Reply</td>\n",
              "      <td>5.8107e+17</td>\n",
              "      <td>5.81063e+17</td>\n",
              "      <td>@thatjohn Have they named the pilot?</td>\n",
              "      <td>germanwings-crash</td>\n",
              "      <td>query</td>\n",
              "    </tr>\n",
              "    <tr>\n",
              "      <th>2</th>\n",
              "      <td>Reply</td>\n",
              "      <td>5.81064e+17</td>\n",
              "      <td>5.81063e+17</td>\n",
              "      <td>@thatjohn @mschenk</td>\n",
              "      <td>germanwings-crash</td>\n",
              "      <td>comment</td>\n",
              "    </tr>\n",
              "    <tr>\n",
              "      <th>3</th>\n",
              "      <td>Source</td>\n",
              "      <td>5.81386e+17</td>\n",
              "      <td>-1</td>\n",
              "      <td>RT @khjelmgaard: German media reporting #Andre...</td>\n",
              "      <td>germanwings-crash</td>\n",
              "      <td>-1</td>\n",
              "    </tr>\n",
              "    <tr>\n",
              "      <th>4</th>\n",
              "      <td>Reply</td>\n",
              "      <td>5.81576e+17</td>\n",
              "      <td>5.81386e+17</td>\n",
              "      <td>@tinkalee_12 @USATODAY @khjelmgaard #F4Phantom...</td>\n",
              "      <td>germanwings-crash</td>\n",
              "      <td>comment</td>\n",
              "    </tr>\n",
              "  </tbody>\n",
              "</table>\n",
              "</div>"
            ],
            "text/plain": [
              "     Type       Msg_ID  ...              Topic    Class\n",
              "0  Source  5.81063e+17  ...  germanwings-crash       -1\n",
              "1   Reply   5.8107e+17  ...  germanwings-crash    query\n",
              "2   Reply  5.81064e+17  ...  germanwings-crash  comment\n",
              "3  Source  5.81386e+17  ...  germanwings-crash       -1\n",
              "4   Reply  5.81576e+17  ...  germanwings-crash  comment\n",
              "\n",
              "[5 rows x 6 columns]"
            ]
          },
          "metadata": {},
          "execution_count": 11
        }
      ]
    },
    {
      "cell_type": "markdown",
      "metadata": {
        "id": "7FQ80_-EPMGB"
      },
      "source": [
        "#Data Exploration and Pre-Processing"
      ]
    },
    {
      "cell_type": "code",
      "metadata": {
        "colab": {
          "base_uri": "https://localhost:8080/",
          "height": 332
        },
        "id": "ReB7b3FTPRLN",
        "outputId": "faa1d725-b513-456b-ba37-f5b6736c14ec"
      },
      "source": [
        "ax = mergedData.Class.value_counts(normalize=False).plot.bar()\n",
        "plt.xlabel('Class')\n",
        "plt.title('Class Count')\n",
        "plt.show()"
      ],
      "execution_count": 12,
      "outputs": [
        {
          "output_type": "display_data",
          "data": {
            "image/png": "[encoded data removed]",
            "text/plain": [
              "<Figure size 432x288 with 1 Axes>"
            ]
          },
          "metadata": {
            "needs_background": "light"
          }
        }
      ]
    },
    {
      "cell_type": "code",
      "metadata": {
        "colab": {
          "base_uri": "https://localhost:8080/"
        },
        "id": "Qxc7lL8QPnW_",
        "outputId": "a4d60778-e95f-49bc-f781-611285f3f43f"
      },
      "source": [
        "mergedData['Text'].value_counts()"
      ],
      "execution_count": 13,
      "outputs": [
        {
          "output_type": "execute_result",
          "data": {
            "text/plain": [
              "[deleted]                                                                                                                                                        119\n",
              "[removed]                                                                                                                                                         10\n",
              "&gt;16 year olds can join the armed forces, should we allow them to vote?\\n\\n16 year olds can't be deployed in a warzone, so no.                                  10\n",
              "Batman, you don't provide a quotation in which the author refutes Blackmore.  Yes, she says the events can be duplicated other ways **but not the sequence.**     10\n",
              "Some overhyped actor, probably xD                                                                                                                                 10\n",
              "                                                                                                                                                                ... \n",
              "@foxandfriends this picture fits this crooked witch she looks like the wicked witch of the west!!!!;                                                               1\n",
              "@FoxNews If only we could have got a sniper rifle aimed on his head idiots just don't know how to make things much better.                                         1\n",
              "@breakingnews For Only $9 You Can Buy 3K Followers http://t.co/XQiCCTJWOe                                                                                          1\n",
              "@EnglishEmma I'm kinda new to (active) twitter but I can see the praises of a knee jerk reaction. It highlights the collective mind issues.                        1\n",
              "@russian_market have you read this? http://t.co/p5s1UG5B9G \\nIs Andrei Illarionov a reliable source in your opinion?                                               1\n",
              "Name: Text, Length: 7674, dtype: int64"
            ]
          },
          "metadata": {},
          "execution_count": 13
        }
      ]
    },
    {
      "cell_type": "code",
      "metadata": {
        "id": "CsK3NauOQNHB"
      },
      "source": [
        "#remove the duplicate rows with '[deleted]' and '[removed]'\n",
        "\n",
        "mergedData = mergedData[mergedData.Text != '[deleted]']\n",
        "mergedData = mergedData[mergedData.Text != '[removed]']"
      ],
      "execution_count": 14,
      "outputs": []
    },
    {
      "cell_type": "code",
      "metadata": {
        "colab": {
          "base_uri": "https://localhost:8080/"
        },
        "id": "tcO0lYpcQNUC",
        "outputId": "081b3001-374a-4e4b-fe1c-adb23c051812"
      },
      "source": [
        "mergedData['Text'].value_counts()"
      ],
      "execution_count": 15,
      "outputs": [
        {
          "output_type": "execute_result",
          "data": {
            "text/plain": [
              "Batman, you don't provide a quotation in which the author refutes Blackmore.  Yes, she says the events can be duplicated other ways **but not the sequence.**          10\n",
              "&gt;16 year olds can join the armed forces, should we allow them to vote?\\n\\n16 year olds can't be deployed in a warzone, so no.                                       10\n",
              "Some overhyped actor, probably xD                                                                                                                                      10\n",
              "Yes, because releasing the actual cost broken down would be a terrible political move for Trump. Why would he just randomly tell everyone how much the trips cost?     10\n",
              "&gt;It is estimated                                                                                                                                                     9\n",
              "                                                                                                                                                                       ..\n",
              "@FoxNews If only we could have got a sniper rifle aimed on his head idiots just don't know how to make things much better.                                              1\n",
              "@breakingnews For Only $9 You Can Buy 3K Followers http://t.co/XQiCCTJWOe                                                                                               1\n",
              "@EnglishEmma I'm kinda new to (active) twitter but I can see the praises of a knee jerk reaction. It highlights the collective mind issues.                             1\n",
              "@DanteB4u get outta d f'in road! (moreover). I'm sorry, time to call for the arrest now, of Mr. Darren Wilson.                                                          1\n",
              "@russian_market have you read this? http://t.co/p5s1UG5B9G \\nIs Andrei Illarionov a reliable source in your opinion?                                                    1\n",
              "Name: Text, Length: 7672, dtype: int64"
            ]
          },
          "metadata": {},
          "execution_count": 15
        }
      ]
    },
    {
      "cell_type": "code",
      "metadata": {
        "id": "LUZJ7NGJIz2k"
      },
      "source": [
        "#Text Cleaning - pre processing regEx, removing punctuation, @user, special characters and stopped words\n",
        "# for 'Text' and '' variable\n",
        "mergedData[\"Text\"]= mergedData[\"Text\"].apply(lambda x: x.lower()) #conver words into lower case\n",
        "mergedData[\"Text\"] =  [re.sub(r'https?:\\/\\/.*[\\r\\n]*','', str(x)) for x in mergedData[\"Text\"]] #remove hyperlinks\n",
        "mergedData[\"Text\"] =  [re.sub(r'@[a-z]+','', str(x)) for x in mergedData[\"Text\"]] #remove @ from the text\n",
        "mergedData[\"Text\"] =  [re.sub(r'[^a-zA-Z\\s]','', str(x)) for x in mergedData[\"Text\"]] #remove special characters\n",
        "mergedData[\"Text\"] = mergedData[\"Text\"].apply(lambda words: ' '.join(word.lower() for word in words.split() if len(word) > 1)) # remove single char"
      ],
      "execution_count": 16,
      "outputs": []
    },
    {
      "cell_type": "code",
      "metadata": {
        "colab": {
          "base_uri": "https://localhost:8080/"
        },
        "id": "Am3dzwfxJh6l",
        "outputId": "e2db6073-4bc4-4796-cf45-d8d13e766f07"
      },
      "source": [
        "mergedData['Text']"
      ],
      "execution_count": 17,
      "outputs": [
        {
          "output_type": "execute_result",
          "data": {
            "text/plain": [
              "0       robin names andreas lubitz as the copilot in t...\n",
              "1                               have they named the pilot\n",
              "2                                                        \n",
              "3       rt german media reporting andreaslubitz had se...\n",
              "4                fphantom crash mph hit concretewall dred\n",
              "                              ...                        \n",
              "9100    go kill deer or lets make it easy cow with you...\n",
              "9101                           niacin is thats not iodine\n",
              "9102                                       nascent iodine\n",
              "9103                  likely full of strontium and cesium\n",
              "9104    iodine is used for radiation poisoning funnily...\n",
              "Name: Text, Length: 8976, dtype: object"
            ]
          },
          "metadata": {},
          "execution_count": 17
        }
      ]
    },
    {
      "cell_type": "code",
      "metadata": {
        "colab": {
          "base_uri": "https://localhost:8080/",
          "height": 204
        },
        "id": "ULldI1KMM9vd",
        "outputId": "98be80b3-4310-4922-ee30-30088b576285"
      },
      "source": [
        "mergedData.head()"
      ],
      "execution_count": 18,
      "outputs": [
        {
          "output_type": "execute_result",
          "data": {
            "text/html": [
              "<div>\n",
              "<style scoped>\n",
              "    .dataframe tbody tr th:only-of-type {\n",
              "        vertical-align: middle;\n",
              "    }\n",
              "\n",
              "    .dataframe tbody tr th {\n",
              "        vertical-align: top;\n",
              "    }\n",
              "\n",
              "    .dataframe thead th {\n",
              "        text-align: right;\n",
              "    }\n",
              "</style>\n",
              "<table border=\"1\" class=\"dataframe\">\n",
              "  <thead>\n",
              "    <tr style=\"text-align: right;\">\n",
              "      <th></th>\n",
              "      <th>Type</th>\n",
              "      <th>Msg_ID</th>\n",
              "      <th>Source_Msg_ID</th>\n",
              "      <th>Text</th>\n",
              "      <th>Topic</th>\n",
              "      <th>Class</th>\n",
              "    </tr>\n",
              "  </thead>\n",
              "  <tbody>\n",
              "    <tr>\n",
              "      <th>0</th>\n",
              "      <td>Source</td>\n",
              "      <td>5.81063e+17</td>\n",
              "      <td>-1</td>\n",
              "      <td>robin names andreas lubitz as the copilot in t...</td>\n",
              "      <td>germanwings-crash</td>\n",
              "      <td>-1</td>\n",
              "    </tr>\n",
              "    <tr>\n",
              "      <th>1</th>\n",
              "      <td>Reply</td>\n",
              "      <td>5.8107e+17</td>\n",
              "      <td>5.81063e+17</td>\n",
              "      <td>have they named the pilot</td>\n",
              "      <td>germanwings-crash</td>\n",
              "      <td>query</td>\n",
              "    </tr>\n",
              "    <tr>\n",
              "      <th>2</th>\n",
              "      <td>Reply</td>\n",
              "      <td>5.81064e+17</td>\n",
              "      <td>5.81063e+17</td>\n",
              "      <td></td>\n",
              "      <td>germanwings-crash</td>\n",
              "      <td>comment</td>\n",
              "    </tr>\n",
              "    <tr>\n",
              "      <th>3</th>\n",
              "      <td>Source</td>\n",
              "      <td>5.81386e+17</td>\n",
              "      <td>-1</td>\n",
              "      <td>rt german media reporting andreaslubitz had se...</td>\n",
              "      <td>germanwings-crash</td>\n",
              "      <td>-1</td>\n",
              "    </tr>\n",
              "    <tr>\n",
              "      <th>4</th>\n",
              "      <td>Reply</td>\n",
              "      <td>5.81576e+17</td>\n",
              "      <td>5.81386e+17</td>\n",
              "      <td>fphantom crash mph hit concretewall dred</td>\n",
              "      <td>germanwings-crash</td>\n",
              "      <td>comment</td>\n",
              "    </tr>\n",
              "  </tbody>\n",
              "</table>\n",
              "</div>"
            ],
            "text/plain": [
              "     Type       Msg_ID  ...              Topic    Class\n",
              "0  Source  5.81063e+17  ...  germanwings-crash       -1\n",
              "1   Reply   5.8107e+17  ...  germanwings-crash    query\n",
              "2   Reply  5.81064e+17  ...  germanwings-crash  comment\n",
              "3  Source  5.81386e+17  ...  germanwings-crash       -1\n",
              "4   Reply  5.81576e+17  ...  germanwings-crash  comment\n",
              "\n",
              "[5 rows x 6 columns]"
            ]
          },
          "metadata": {},
          "execution_count": 18
        }
      ]
    },
    {
      "cell_type": "code",
      "metadata": {
        "id": "RLiRtRSzI0Mf"
      },
      "source": [
        "stopped = stopwords.words(\"english\")\n",
        "stopped.remove('not')"
      ],
      "execution_count": 19,
      "outputs": []
    },
    {
      "cell_type": "code",
      "metadata": {
        "id": "jTXFfQnYI0cW"
      },
      "source": [
        "for i in stopped:\n",
        "  if(\"n'\" in i):\n",
        "    stopped.remove(i)"
      ],
      "execution_count": 20,
      "outputs": []
    },
    {
      "cell_type": "code",
      "metadata": {
        "id": "PYLDASROI0kI"
      },
      "source": [
        "# remove stopwords\n",
        "mergedData['Text'] = mergedData['Text'].apply(lambda words: ' '.join(word for word in words.split() if word not in stopped))"
      ],
      "execution_count": 21,
      "outputs": []
    },
    {
      "cell_type": "code",
      "metadata": {
        "colab": {
          "base_uri": "https://localhost:8080/"
        },
        "id": "MCR2j81XJSfE",
        "outputId": "2b2861f6-3cc1-4fa5-d079-6a7bd6f7f108"
      },
      "source": [
        "mergedData['Text']"
      ],
      "execution_count": 22,
      "outputs": [
        {
          "output_type": "execute_result",
          "data": {
            "text/plain": [
              "0       robin names andreas lubitz copilot flight deck...\n",
              "1                                             named pilot\n",
              "2                                                        \n",
              "3       rt german media reporting andreaslubitz seriou...\n",
              "4                fphantom crash mph hit concretewall dred\n",
              "                              ...                        \n",
              "9100    go kill deer lets make easy cow bare hands eat...\n",
              "9101                              niacin thats not iodine\n",
              "9102                                       nascent iodine\n",
              "9103                         likely full strontium cesium\n",
              "9104       iodine used radiation poisoning funnily enough\n",
              "Name: Text, Length: 8976, dtype: object"
            ]
          },
          "metadata": {},
          "execution_count": 22
        }
      ]
    },
    {
      "cell_type": "code",
      "metadata": {
        "colab": {
          "base_uri": "https://localhost:8080/"
        },
        "id": "LmSF6lx4TFIB",
        "outputId": "b2da6c05-7e2d-4411-b69f-993320168425"
      },
      "source": [
        "#Check for empty strings \n",
        "mergedData[mergedData['Text'] == ''].index"
      ],
      "execution_count": 23,
      "outputs": [
        {
          "output_type": "execute_result",
          "data": {
            "text/plain": [
              "Int64Index([   2,  173,  361,  362,  366,  367,  473,  505,  522,  540,\n",
              "            ...\n",
              "            7587, 7735, 7785, 7828, 8289, 8302, 8316, 8325, 9001, 9020],\n",
              "           dtype='int64', length=219)"
            ]
          },
          "metadata": {},
          "execution_count": 23
        }
      ]
    },
    {
      "cell_type": "code",
      "metadata": {
        "id": "xIBN-wuGTFSb"
      },
      "source": [
        "# replace empty string with nan\n",
        "mergedData['Text'].replace('', np.nan, inplace=True)"
      ],
      "execution_count": 24,
      "outputs": []
    },
    {
      "cell_type": "code",
      "metadata": {
        "colab": {
          "base_uri": "https://localhost:8080/"
        },
        "id": "m5wEy5-9TtdE",
        "outputId": "0f39ef07-a202-4cdc-f5dd-14f16f6f5e7c"
      },
      "source": [
        "#check nan\n",
        "mergedData.isnull().values.sum()"
      ],
      "execution_count": 25,
      "outputs": [
        {
          "output_type": "execute_result",
          "data": {
            "text/plain": [
              "219"
            ]
          },
          "metadata": {},
          "execution_count": 25
        }
      ]
    },
    {
      "cell_type": "code",
      "metadata": {
        "id": "I4HIzu9KUp99"
      },
      "source": [
        "# drop NaN observations\n",
        "mergedData = mergedData.dropna()"
      ],
      "execution_count": 26,
      "outputs": []
    },
    {
      "cell_type": "code",
      "metadata": {
        "id": "g6ZWsUjdU34m"
      },
      "source": [
        "# check duplicates in ;Text' preserving first occrance\n",
        "duplicate_data = mergedData[mergedData.duplicated('Text', keep='first')] "
      ],
      "execution_count": 27,
      "outputs": []
    },
    {
      "cell_type": "code",
      "metadata": {
        "colab": {
          "base_uri": "https://localhost:8080/",
          "height": 419
        },
        "id": "cLNXvq3uVIXQ",
        "outputId": "fd14f9e8-4621-4d32-9742-768ef35fc7af"
      },
      "source": [
        "duplicate_data"
      ],
      "execution_count": 28,
      "outputs": [
        {
          "output_type": "execute_result",
          "data": {
            "text/html": [
              "<div>\n",
              "<style scoped>\n",
              "    .dataframe tbody tr th:only-of-type {\n",
              "        vertical-align: middle;\n",
              "    }\n",
              "\n",
              "    .dataframe tbody tr th {\n",
              "        vertical-align: top;\n",
              "    }\n",
              "\n",
              "    .dataframe thead th {\n",
              "        text-align: right;\n",
              "    }\n",
              "</style>\n",
              "<table border=\"1\" class=\"dataframe\">\n",
              "  <thead>\n",
              "    <tr style=\"text-align: right;\">\n",
              "      <th></th>\n",
              "      <th>Type</th>\n",
              "      <th>Msg_ID</th>\n",
              "      <th>Source_Msg_ID</th>\n",
              "      <th>Text</th>\n",
              "      <th>Topic</th>\n",
              "      <th>Class</th>\n",
              "    </tr>\n",
              "  </thead>\n",
              "  <tbody>\n",
              "    <tr>\n",
              "      <th>66</th>\n",
              "      <td>Reply</td>\n",
              "      <td>5.80377e+17</td>\n",
              "      <td>5.8034e+17</td>\n",
              "      <td>germanwings passenger plane crashes french alp...</td>\n",
              "      <td>germanwings-crash</td>\n",
              "      <td>comment</td>\n",
              "    </tr>\n",
              "    <tr>\n",
              "      <th>67</th>\n",
              "      <td>Reply</td>\n",
              "      <td>5.80344e+17</td>\n",
              "      <td>5.8034e+17</td>\n",
              "      <td>germanwings passenger plane crashes french alp...</td>\n",
              "      <td>germanwings-crash</td>\n",
              "      <td>comment</td>\n",
              "    </tr>\n",
              "    <tr>\n",
              "      <th>91</th>\n",
              "      <td>Reply</td>\n",
              "      <td>5.80321e+17</td>\n",
              "      <td>5.80319e+17</td>\n",
              "      <td>germanwings airbus crashes french alps near digne</td>\n",
              "      <td>germanwings-crash</td>\n",
              "      <td>support</td>\n",
              "    </tr>\n",
              "    <tr>\n",
              "      <th>93</th>\n",
              "      <td>Reply</td>\n",
              "      <td>5.8032e+17</td>\n",
              "      <td>5.80319e+17</td>\n",
              "      <td>rt germanwings airbus crashes french alps near...</td>\n",
              "      <td>germanwings-crash</td>\n",
              "      <td>support</td>\n",
              "    </tr>\n",
              "    <tr>\n",
              "      <th>95</th>\n",
              "      <td>Reply</td>\n",
              "      <td>5.80321e+17</td>\n",
              "      <td>5.80319e+17</td>\n",
              "      <td>germanwings airbus crashes french alps near digne</td>\n",
              "      <td>germanwings-crash</td>\n",
              "      <td>support</td>\n",
              "    </tr>\n",
              "    <tr>\n",
              "      <th>...</th>\n",
              "      <td>...</td>\n",
              "      <td>...</td>\n",
              "      <td>...</td>\n",
              "      <td>...</td>\n",
              "      <td>...</td>\n",
              "      <td>...</td>\n",
              "    </tr>\n",
              "    <tr>\n",
              "      <th>9099</th>\n",
              "      <td>Reply</td>\n",
              "      <td>e3bf4jc</td>\n",
              "      <td>934q6t</td>\n",
              "      <td>plenty red meat easily eaten raw even chimps a...</td>\n",
              "      <td>None</td>\n",
              "      <td>comment</td>\n",
              "    </tr>\n",
              "    <tr>\n",
              "      <th>9100</th>\n",
              "      <td>Reply</td>\n",
              "      <td>e3bg540</td>\n",
              "      <td>934q6t</td>\n",
              "      <td>go kill deer lets make easy cow bare hands eat...</td>\n",
              "      <td>None</td>\n",
              "      <td>comment</td>\n",
              "    </tr>\n",
              "    <tr>\n",
              "      <th>9102</th>\n",
              "      <td>Reply</td>\n",
              "      <td>e3cgyvc</td>\n",
              "      <td>934q6t</td>\n",
              "      <td>nascent iodine</td>\n",
              "      <td>None</td>\n",
              "      <td>comment</td>\n",
              "    </tr>\n",
              "    <tr>\n",
              "      <th>9103</th>\n",
              "      <td>Reply</td>\n",
              "      <td>e3b7gdl</td>\n",
              "      <td>934q6t</td>\n",
              "      <td>likely full strontium cesium</td>\n",
              "      <td>None</td>\n",
              "      <td>comment</td>\n",
              "    </tr>\n",
              "    <tr>\n",
              "      <th>9104</th>\n",
              "      <td>Reply</td>\n",
              "      <td>e3bw3zg</td>\n",
              "      <td>934q6t</td>\n",
              "      <td>iodine used radiation poisoning funnily enough</td>\n",
              "      <td>None</td>\n",
              "      <td>comment</td>\n",
              "    </tr>\n",
              "  </tbody>\n",
              "</table>\n",
              "<p>1677 rows × 6 columns</p>\n",
              "</div>"
            ],
            "text/plain": [
              "       Type       Msg_ID  ...              Topic    Class\n",
              "66    Reply  5.80377e+17  ...  germanwings-crash  comment\n",
              "67    Reply  5.80344e+17  ...  germanwings-crash  comment\n",
              "91    Reply  5.80321e+17  ...  germanwings-crash  support\n",
              "93    Reply   5.8032e+17  ...  germanwings-crash  support\n",
              "95    Reply  5.80321e+17  ...  germanwings-crash  support\n",
              "...     ...          ...  ...                ...      ...\n",
              "9099  Reply      e3bf4jc  ...               None  comment\n",
              "9100  Reply      e3bg540  ...               None  comment\n",
              "9102  Reply      e3cgyvc  ...               None  comment\n",
              "9103  Reply      e3b7gdl  ...               None  comment\n",
              "9104  Reply      e3bw3zg  ...               None  comment\n",
              "\n",
              "[1677 rows x 6 columns]"
            ]
          },
          "metadata": {},
          "execution_count": 28
        }
      ]
    },
    {
      "cell_type": "code",
      "metadata": {
        "id": "e39h4jiEVYUL"
      },
      "source": [
        "# filter out duplicate observations except Source Type\n",
        "duplicate_data = duplicate_data[duplicate_data['Type'] != \"Source\"]"
      ],
      "execution_count": 29,
      "outputs": []
    },
    {
      "cell_type": "code",
      "metadata": {
        "id": "Tmq2f6iNVYgb"
      },
      "source": [
        "# drop duplicate observations\n",
        "mergedData = mergedData[mergedData.apply(lambda x: x.values.tolist() not in duplicate_data.values.tolist(), axis=1)]"
      ],
      "execution_count": 30,
      "outputs": []
    },
    {
      "cell_type": "code",
      "metadata": {
        "id": "3sUBZJXuV9jk"
      },
      "source": [
        "mergedData = mergedData.reset_index(drop=True)"
      ],
      "execution_count": 31,
      "outputs": []
    },
    {
      "cell_type": "code",
      "metadata": {
        "colab": {
          "base_uri": "https://localhost:8080/",
          "height": 419
        },
        "id": "tlg7h1CvWEx_",
        "outputId": "6789ddcb-9a3a-4d8e-ab25-6bf71ef6ed3d"
      },
      "source": [
        "mergedData"
      ],
      "execution_count": 32,
      "outputs": [
        {
          "output_type": "execute_result",
          "data": {
            "text/html": [
              "<div>\n",
              "<style scoped>\n",
              "    .dataframe tbody tr th:only-of-type {\n",
              "        vertical-align: middle;\n",
              "    }\n",
              "\n",
              "    .dataframe tbody tr th {\n",
              "        vertical-align: top;\n",
              "    }\n",
              "\n",
              "    .dataframe thead th {\n",
              "        text-align: right;\n",
              "    }\n",
              "</style>\n",
              "<table border=\"1\" class=\"dataframe\">\n",
              "  <thead>\n",
              "    <tr style=\"text-align: right;\">\n",
              "      <th></th>\n",
              "      <th>Type</th>\n",
              "      <th>Msg_ID</th>\n",
              "      <th>Source_Msg_ID</th>\n",
              "      <th>Text</th>\n",
              "      <th>Topic</th>\n",
              "      <th>Class</th>\n",
              "    </tr>\n",
              "  </thead>\n",
              "  <tbody>\n",
              "    <tr>\n",
              "      <th>0</th>\n",
              "      <td>Source</td>\n",
              "      <td>5.81063e+17</td>\n",
              "      <td>-1</td>\n",
              "      <td>robin names andreas lubitz copilot flight deck...</td>\n",
              "      <td>germanwings-crash</td>\n",
              "      <td>-1</td>\n",
              "    </tr>\n",
              "    <tr>\n",
              "      <th>1</th>\n",
              "      <td>Reply</td>\n",
              "      <td>5.8107e+17</td>\n",
              "      <td>5.81063e+17</td>\n",
              "      <td>named pilot</td>\n",
              "      <td>germanwings-crash</td>\n",
              "      <td>query</td>\n",
              "    </tr>\n",
              "    <tr>\n",
              "      <th>2</th>\n",
              "      <td>Source</td>\n",
              "      <td>5.81386e+17</td>\n",
              "      <td>-1</td>\n",
              "      <td>rt german media reporting andreaslubitz seriou...</td>\n",
              "      <td>germanwings-crash</td>\n",
              "      <td>-1</td>\n",
              "    </tr>\n",
              "    <tr>\n",
              "      <th>3</th>\n",
              "      <td>Reply</td>\n",
              "      <td>5.81576e+17</td>\n",
              "      <td>5.81386e+17</td>\n",
              "      <td>fphantom crash mph hit concretewall dred</td>\n",
              "      <td>germanwings-crash</td>\n",
              "      <td>comment</td>\n",
              "    </tr>\n",
              "    <tr>\n",
              "      <th>4</th>\n",
              "      <td>Reply</td>\n",
              "      <td>5.82048e+17</td>\n",
              "      <td>5.81386e+17</td>\n",
              "      <td>ers link prove intentionally set kill</td>\n",
              "      <td>germanwings-crash</td>\n",
              "      <td>comment</td>\n",
              "    </tr>\n",
              "    <tr>\n",
              "      <th>...</th>\n",
              "      <td>...</td>\n",
              "      <td>...</td>\n",
              "      <td>...</td>\n",
              "      <td>...</td>\n",
              "      <td>...</td>\n",
              "      <td>...</td>\n",
              "    </tr>\n",
              "    <tr>\n",
              "      <th>6602</th>\n",
              "      <td>Reply</td>\n",
              "      <td>e3bn1v6</td>\n",
              "      <td>934q6t</td>\n",
              "      <td>anyone dr enuf</td>\n",
              "      <td>None</td>\n",
              "      <td>comment</td>\n",
              "    </tr>\n",
              "    <tr>\n",
              "      <th>6603</th>\n",
              "      <td>Reply</td>\n",
              "      <td>e3b5lyp</td>\n",
              "      <td>934q6t</td>\n",
              "      <td>could also eating seaweed thats radiated fukus...</td>\n",
              "      <td>None</td>\n",
              "      <td>comment</td>\n",
              "    </tr>\n",
              "    <tr>\n",
              "      <th>6604</th>\n",
              "      <td>Reply</td>\n",
              "      <td>e3b9yiy</td>\n",
              "      <td>934q6t</td>\n",
              "      <td>nascent iodine best</td>\n",
              "      <td>None</td>\n",
              "      <td>comment</td>\n",
              "    </tr>\n",
              "    <tr>\n",
              "      <th>6605</th>\n",
              "      <td>Reply</td>\n",
              "      <td>e3bsdee</td>\n",
              "      <td>934q6t</td>\n",
              "      <td>tried drops sublingually tearing tongue ill gi...</td>\n",
              "      <td>None</td>\n",
              "      <td>comment</td>\n",
              "    </tr>\n",
              "    <tr>\n",
              "      <th>6606</th>\n",
              "      <td>Reply</td>\n",
              "      <td>e3c6wgj</td>\n",
              "      <td>934q6t</td>\n",
              "      <td>niacin thats not iodine</td>\n",
              "      <td>None</td>\n",
              "      <td>comment</td>\n",
              "    </tr>\n",
              "  </tbody>\n",
              "</table>\n",
              "<p>6607 rows × 6 columns</p>\n",
              "</div>"
            ],
            "text/plain": [
              "        Type       Msg_ID  ...              Topic    Class\n",
              "0     Source  5.81063e+17  ...  germanwings-crash       -1\n",
              "1      Reply   5.8107e+17  ...  germanwings-crash    query\n",
              "2     Source  5.81386e+17  ...  germanwings-crash       -1\n",
              "3      Reply  5.81576e+17  ...  germanwings-crash  comment\n",
              "4      Reply  5.82048e+17  ...  germanwings-crash  comment\n",
              "...      ...          ...  ...                ...      ...\n",
              "6602   Reply      e3bn1v6  ...               None  comment\n",
              "6603   Reply      e3b5lyp  ...               None  comment\n",
              "6604   Reply      e3b9yiy  ...               None  comment\n",
              "6605   Reply      e3bsdee  ...               None  comment\n",
              "6606   Reply      e3c6wgj  ...               None  comment\n",
              "\n",
              "[6607 rows x 6 columns]"
            ]
          },
          "metadata": {},
          "execution_count": 32
        }
      ]
    },
    {
      "cell_type": "code",
      "metadata": {
        "id": "VodIlpx7WfRP"
      },
      "source": [
        "#tokenize the sentecnces into words\n",
        "# apply stemmer on tokenized words\n",
        "#join back the wors into sentence\n",
        "\n",
        "porter_stemmer = PorterStemmer()\n",
        "\n",
        "def porter_stem_text(text):\n",
        "    words = text.split()\n",
        "    stemmed_words = [porter_stemmer.stem(word) for word in words]\n",
        "    return ' '.join(stemmed_words)\n",
        "\n",
        "mergedData[\"Text\"] = mergedData[\"Text\"].apply(porter_stem_text)"
      ],
      "execution_count": 33,
      "outputs": []
    },
    {
      "cell_type": "code",
      "metadata": {
        "colab": {
          "base_uri": "https://localhost:8080/",
          "height": 419
        },
        "id": "ZSXChXoBWjW6",
        "outputId": "c8199a74-032f-4f8e-a071-d607f920f10d"
      },
      "source": [
        "mergedData"
      ],
      "execution_count": 34,
      "outputs": [
        {
          "output_type": "execute_result",
          "data": {
            "text/html": [
              "<div>\n",
              "<style scoped>\n",
              "    .dataframe tbody tr th:only-of-type {\n",
              "        vertical-align: middle;\n",
              "    }\n",
              "\n",
              "    .dataframe tbody tr th {\n",
              "        vertical-align: top;\n",
              "    }\n",
              "\n",
              "    .dataframe thead th {\n",
              "        text-align: right;\n",
              "    }\n",
              "</style>\n",
              "<table border=\"1\" class=\"dataframe\">\n",
              "  <thead>\n",
              "    <tr style=\"text-align: right;\">\n",
              "      <th></th>\n",
              "      <th>Type</th>\n",
              "      <th>Msg_ID</th>\n",
              "      <th>Source_Msg_ID</th>\n",
              "      <th>Text</th>\n",
              "      <th>Topic</th>\n",
              "      <th>Class</th>\n",
              "    </tr>\n",
              "  </thead>\n",
              "  <tbody>\n",
              "    <tr>\n",
              "      <th>0</th>\n",
              "      <td>Source</td>\n",
              "      <td>5.81063e+17</td>\n",
              "      <td>-1</td>\n",
              "      <td>robin name andrea lubitz copilot flight deck c...</td>\n",
              "      <td>germanwings-crash</td>\n",
              "      <td>-1</td>\n",
              "    </tr>\n",
              "    <tr>\n",
              "      <th>1</th>\n",
              "      <td>Reply</td>\n",
              "      <td>5.8107e+17</td>\n",
              "      <td>5.81063e+17</td>\n",
              "      <td>name pilot</td>\n",
              "      <td>germanwings-crash</td>\n",
              "      <td>query</td>\n",
              "    </tr>\n",
              "    <tr>\n",
              "      <th>2</th>\n",
              "      <td>Source</td>\n",
              "      <td>5.81386e+17</td>\n",
              "      <td>-1</td>\n",
              "      <td>rt german media report andreaslubitz seriou de...</td>\n",
              "      <td>germanwings-crash</td>\n",
              "      <td>-1</td>\n",
              "    </tr>\n",
              "    <tr>\n",
              "      <th>3</th>\n",
              "      <td>Reply</td>\n",
              "      <td>5.81576e+17</td>\n",
              "      <td>5.81386e+17</td>\n",
              "      <td>fphantom crash mph hit concretewal dred</td>\n",
              "      <td>germanwings-crash</td>\n",
              "      <td>comment</td>\n",
              "    </tr>\n",
              "    <tr>\n",
              "      <th>4</th>\n",
              "      <td>Reply</td>\n",
              "      <td>5.82048e+17</td>\n",
              "      <td>5.81386e+17</td>\n",
              "      <td>er link prove intent set kill</td>\n",
              "      <td>germanwings-crash</td>\n",
              "      <td>comment</td>\n",
              "    </tr>\n",
              "    <tr>\n",
              "      <th>...</th>\n",
              "      <td>...</td>\n",
              "      <td>...</td>\n",
              "      <td>...</td>\n",
              "      <td>...</td>\n",
              "      <td>...</td>\n",
              "      <td>...</td>\n",
              "    </tr>\n",
              "    <tr>\n",
              "      <th>6602</th>\n",
              "      <td>Reply</td>\n",
              "      <td>e3bn1v6</td>\n",
              "      <td>934q6t</td>\n",
              "      <td>anyon dr enuf</td>\n",
              "      <td>None</td>\n",
              "      <td>comment</td>\n",
              "    </tr>\n",
              "    <tr>\n",
              "      <th>6603</th>\n",
              "      <td>Reply</td>\n",
              "      <td>e3b5lyp</td>\n",
              "      <td>934q6t</td>\n",
              "      <td>could also eat seawe that radiat fukushima</td>\n",
              "      <td>None</td>\n",
              "      <td>comment</td>\n",
              "    </tr>\n",
              "    <tr>\n",
              "      <th>6604</th>\n",
              "      <td>Reply</td>\n",
              "      <td>e3b9yiy</td>\n",
              "      <td>934q6t</td>\n",
              "      <td>nascent iodin best</td>\n",
              "      <td>None</td>\n",
              "      <td>comment</td>\n",
              "    </tr>\n",
              "    <tr>\n",
              "      <th>6605</th>\n",
              "      <td>Reply</td>\n",
              "      <td>e3bsdee</td>\n",
              "      <td>934q6t</td>\n",
              "      <td>tri drop sublingu tear tongu ill give solut sh...</td>\n",
              "      <td>None</td>\n",
              "      <td>comment</td>\n",
              "    </tr>\n",
              "    <tr>\n",
              "      <th>6606</th>\n",
              "      <td>Reply</td>\n",
              "      <td>e3c6wgj</td>\n",
              "      <td>934q6t</td>\n",
              "      <td>niacin that not iodin</td>\n",
              "      <td>None</td>\n",
              "      <td>comment</td>\n",
              "    </tr>\n",
              "  </tbody>\n",
              "</table>\n",
              "<p>6607 rows × 6 columns</p>\n",
              "</div>"
            ],
            "text/plain": [
              "        Type       Msg_ID  ...              Topic    Class\n",
              "0     Source  5.81063e+17  ...  germanwings-crash       -1\n",
              "1      Reply   5.8107e+17  ...  germanwings-crash    query\n",
              "2     Source  5.81386e+17  ...  germanwings-crash       -1\n",
              "3      Reply  5.81576e+17  ...  germanwings-crash  comment\n",
              "4      Reply  5.82048e+17  ...  germanwings-crash  comment\n",
              "...      ...          ...  ...                ...      ...\n",
              "6602   Reply      e3bn1v6  ...               None  comment\n",
              "6603   Reply      e3b5lyp  ...               None  comment\n",
              "6604   Reply      e3b9yiy  ...               None  comment\n",
              "6605   Reply      e3bsdee  ...               None  comment\n",
              "6606   Reply      e3c6wgj  ...               None  comment\n",
              "\n",
              "[6607 rows x 6 columns]"
            ]
          },
          "metadata": {},
          "execution_count": 34
        }
      ]
    },
    {
      "cell_type": "code",
      "metadata": {
        "id": "eFC6XCD62yN5"
      },
      "source": [
        "#Data cleaning and pre processing\n",
        "#creating a new column to seggregate source and add source Text against each reply which have the same Msg_ID\tand Source_Msg_ID"
      ],
      "execution_count": 35,
      "outputs": []
    },
    {
      "cell_type": "code",
      "metadata": {
        "id": "LIX-I9wm2yW1"
      },
      "source": [
        "Type_Source = []\n",
        "for i, row in mergedData.iterrows():\n",
        "  if row['Type'] == 'Source':\n",
        "    new_source = row['Text']\n",
        "    msg_id = row['Msg_ID']\n",
        "  if msg_id == row['Source_Msg_ID']:\n",
        "    Type_Source.append(new_source)"
      ],
      "execution_count": 36,
      "outputs": []
    },
    {
      "cell_type": "code",
      "metadata": {
        "id": "HuTMyEDA2yYx",
        "colab": {
          "base_uri": "https://localhost:8080/"
        },
        "outputId": "9245eb7e-0a4d-48ea-e3ad-abdb608c7ff8"
      },
      "source": [
        "len(Type_Source)"
      ],
      "execution_count": 37,
      "outputs": [
        {
          "output_type": "execute_result",
          "data": {
            "text/plain": [
              "6186"
            ]
          },
          "metadata": {},
          "execution_count": 37
        }
      ]
    },
    {
      "cell_type": "code",
      "metadata": {
        "id": "yRJmndT62ycf"
      },
      "source": [
        "mergedData = mergedData.loc[mergedData['Type'] != 'Source']"
      ],
      "execution_count": 38,
      "outputs": []
    },
    {
      "cell_type": "code",
      "metadata": {
        "colab": {
          "base_uri": "https://localhost:8080/"
        },
        "id": "e4TMIVerf_gm",
        "outputId": "2b3c4391-1fd8-4e11-9e9b-2e25a6d31b8b"
      },
      "source": [
        "len(mergedData)"
      ],
      "execution_count": 39,
      "outputs": [
        {
          "output_type": "execute_result",
          "data": {
            "text/plain": [
              "6186"
            ]
          },
          "metadata": {},
          "execution_count": 39
        }
      ]
    },
    {
      "cell_type": "code",
      "metadata": {
        "colab": {
          "base_uri": "https://localhost:8080/"
        },
        "id": "f-RpkrdR5we7",
        "outputId": "5982b552-5f64-4658-ef84-48edddd53a58"
      },
      "source": [
        "mergedData['New_Source'] = Type_Source"
      ],
      "execution_count": 40,
      "outputs": [
        {
          "output_type": "stream",
          "name": "stderr",
          "text": [
            "/usr/local/lib/python3.7/dist-packages/ipykernel_launcher.py:1: SettingWithCopyWarning: \n",
            "A value is trying to be set on a copy of a slice from a DataFrame.\n",
            "Try using .loc[row_indexer,col_indexer] = value instead\n",
            "\n",
            "See the caveats in the documentation: https://pandas.pydata.org/pandas-docs/stable/user_guide/indexing.html#returning-a-view-versus-a-copy\n",
            "  \"\"\"Entry point for launching an IPython kernel.\n"
          ]
        }
      ]
    },
    {
      "cell_type": "code",
      "metadata": {
        "colab": {
          "base_uri": "https://localhost:8080/",
          "height": 419
        },
        "id": "yZfT-VSq5wg3",
        "outputId": "8e77aafe-e510-49a0-ad9f-6d60ef6fa76b"
      },
      "source": [
        "mergedData"
      ],
      "execution_count": 41,
      "outputs": [
        {
          "output_type": "execute_result",
          "data": {
            "text/html": [
              "<div>\n",
              "<style scoped>\n",
              "    .dataframe tbody tr th:only-of-type {\n",
              "        vertical-align: middle;\n",
              "    }\n",
              "\n",
              "    .dataframe tbody tr th {\n",
              "        vertical-align: top;\n",
              "    }\n",
              "\n",
              "    .dataframe thead th {\n",
              "        text-align: right;\n",
              "    }\n",
              "</style>\n",
              "<table border=\"1\" class=\"dataframe\">\n",
              "  <thead>\n",
              "    <tr style=\"text-align: right;\">\n",
              "      <th></th>\n",
              "      <th>Type</th>\n",
              "      <th>Msg_ID</th>\n",
              "      <th>Source_Msg_ID</th>\n",
              "      <th>Text</th>\n",
              "      <th>Topic</th>\n",
              "      <th>Class</th>\n",
              "      <th>New_Source</th>\n",
              "    </tr>\n",
              "  </thead>\n",
              "  <tbody>\n",
              "    <tr>\n",
              "      <th>1</th>\n",
              "      <td>Reply</td>\n",
              "      <td>5.8107e+17</td>\n",
              "      <td>5.81063e+17</td>\n",
              "      <td>name pilot</td>\n",
              "      <td>germanwings-crash</td>\n",
              "      <td>query</td>\n",
              "      <td>robin name andrea lubitz copilot flight deck c...</td>\n",
              "    </tr>\n",
              "    <tr>\n",
              "      <th>3</th>\n",
              "      <td>Reply</td>\n",
              "      <td>5.81576e+17</td>\n",
              "      <td>5.81386e+17</td>\n",
              "      <td>fphantom crash mph hit concretewal dred</td>\n",
              "      <td>germanwings-crash</td>\n",
              "      <td>comment</td>\n",
              "      <td>rt german media report andreaslubitz seriou de...</td>\n",
              "    </tr>\n",
              "    <tr>\n",
              "      <th>4</th>\n",
              "      <td>Reply</td>\n",
              "      <td>5.82048e+17</td>\n",
              "      <td>5.81386e+17</td>\n",
              "      <td>er link prove intent set kill</td>\n",
              "      <td>germanwings-crash</td>\n",
              "      <td>comment</td>\n",
              "      <td>rt german media report andreaslubitz seriou de...</td>\n",
              "    </tr>\n",
              "    <tr>\n",
              "      <th>5</th>\n",
              "      <td>Reply</td>\n",
              "      <td>5.82206e+17</td>\n",
              "      <td>5.81386e+17</td>\n",
              "      <td>sure germanw copilot andreaslubitz newmot dead...</td>\n",
              "      <td>germanwings-crash</td>\n",
              "      <td>comment</td>\n",
              "      <td>rt german media report andreaslubitz seriou de...</td>\n",
              "    </tr>\n",
              "    <tr>\n",
              "      <th>6</th>\n",
              "      <td>Reply</td>\n",
              "      <td>5.81573e+17</td>\n",
              "      <td>5.81386e+17</td>\n",
              "      <td>andreaslubitz germanw dred splitup girlfriend ...</td>\n",
              "      <td>germanwings-crash</td>\n",
              "      <td>comment</td>\n",
              "      <td>rt german media report andreaslubitz seriou de...</td>\n",
              "    </tr>\n",
              "    <tr>\n",
              "      <th>...</th>\n",
              "      <td>...</td>\n",
              "      <td>...</td>\n",
              "      <td>...</td>\n",
              "      <td>...</td>\n",
              "      <td>...</td>\n",
              "      <td>...</td>\n",
              "      <td>...</td>\n",
              "    </tr>\n",
              "    <tr>\n",
              "      <th>6602</th>\n",
              "      <td>Reply</td>\n",
              "      <td>e3bn1v6</td>\n",
              "      <td>934q6t</td>\n",
              "      <td>anyon dr enuf</td>\n",
              "      <td>None</td>\n",
              "      <td>comment</td>\n",
              "      <td>iodin increas iq essenti part human diet yet a...</td>\n",
              "    </tr>\n",
              "    <tr>\n",
              "      <th>6603</th>\n",
              "      <td>Reply</td>\n",
              "      <td>e3b5lyp</td>\n",
              "      <td>934q6t</td>\n",
              "      <td>could also eat seawe that radiat fukushima</td>\n",
              "      <td>None</td>\n",
              "      <td>comment</td>\n",
              "      <td>iodin increas iq essenti part human diet yet a...</td>\n",
              "    </tr>\n",
              "    <tr>\n",
              "      <th>6604</th>\n",
              "      <td>Reply</td>\n",
              "      <td>e3b9yiy</td>\n",
              "      <td>934q6t</td>\n",
              "      <td>nascent iodin best</td>\n",
              "      <td>None</td>\n",
              "      <td>comment</td>\n",
              "      <td>iodin increas iq essenti part human diet yet a...</td>\n",
              "    </tr>\n",
              "    <tr>\n",
              "      <th>6605</th>\n",
              "      <td>Reply</td>\n",
              "      <td>e3bsdee</td>\n",
              "      <td>934q6t</td>\n",
              "      <td>tri drop sublingu tear tongu ill give solut sh...</td>\n",
              "      <td>None</td>\n",
              "      <td>comment</td>\n",
              "      <td>iodin increas iq essenti part human diet yet a...</td>\n",
              "    </tr>\n",
              "    <tr>\n",
              "      <th>6606</th>\n",
              "      <td>Reply</td>\n",
              "      <td>e3c6wgj</td>\n",
              "      <td>934q6t</td>\n",
              "      <td>niacin that not iodin</td>\n",
              "      <td>None</td>\n",
              "      <td>comment</td>\n",
              "      <td>iodin increas iq essenti part human diet yet a...</td>\n",
              "    </tr>\n",
              "  </tbody>\n",
              "</table>\n",
              "<p>6186 rows × 7 columns</p>\n",
              "</div>"
            ],
            "text/plain": [
              "       Type  ...                                         New_Source\n",
              "1     Reply  ...  robin name andrea lubitz copilot flight deck c...\n",
              "3     Reply  ...  rt german media report andreaslubitz seriou de...\n",
              "4     Reply  ...  rt german media report andreaslubitz seriou de...\n",
              "5     Reply  ...  rt german media report andreaslubitz seriou de...\n",
              "6     Reply  ...  rt german media report andreaslubitz seriou de...\n",
              "...     ...  ...                                                ...\n",
              "6602  Reply  ...  iodin increas iq essenti part human diet yet a...\n",
              "6603  Reply  ...  iodin increas iq essenti part human diet yet a...\n",
              "6604  Reply  ...  iodin increas iq essenti part human diet yet a...\n",
              "6605  Reply  ...  iodin increas iq essenti part human diet yet a...\n",
              "6606  Reply  ...  iodin increas iq essenti part human diet yet a...\n",
              "\n",
              "[6186 rows x 7 columns]"
            ]
          },
          "metadata": {},
          "execution_count": 41
        }
      ]
    },
    {
      "cell_type": "code",
      "metadata": {
        "id": "ywGx-8AMXpuj"
      },
      "source": [
        "mergedData = mergedData.reset_index(drop=True)"
      ],
      "execution_count": 42,
      "outputs": []
    },
    {
      "cell_type": "code",
      "metadata": {
        "colab": {
          "base_uri": "https://localhost:8080/",
          "height": 419
        },
        "id": "8eZgieF8Xx4b",
        "outputId": "2b181730-5e8f-4c3e-d862-0b898fc20136"
      },
      "source": [
        "mergedData"
      ],
      "execution_count": 43,
      "outputs": [
        {
          "output_type": "execute_result",
          "data": {
            "text/html": [
              "<div>\n",
              "<style scoped>\n",
              "    .dataframe tbody tr th:only-of-type {\n",
              "        vertical-align: middle;\n",
              "    }\n",
              "\n",
              "    .dataframe tbody tr th {\n",
              "        vertical-align: top;\n",
              "    }\n",
              "\n",
              "    .dataframe thead th {\n",
              "        text-align: right;\n",
              "    }\n",
              "</style>\n",
              "<table border=\"1\" class=\"dataframe\">\n",
              "  <thead>\n",
              "    <tr style=\"text-align: right;\">\n",
              "      <th></th>\n",
              "      <th>Type</th>\n",
              "      <th>Msg_ID</th>\n",
              "      <th>Source_Msg_ID</th>\n",
              "      <th>Text</th>\n",
              "      <th>Topic</th>\n",
              "      <th>Class</th>\n",
              "      <th>New_Source</th>\n",
              "    </tr>\n",
              "  </thead>\n",
              "  <tbody>\n",
              "    <tr>\n",
              "      <th>0</th>\n",
              "      <td>Reply</td>\n",
              "      <td>5.8107e+17</td>\n",
              "      <td>5.81063e+17</td>\n",
              "      <td>name pilot</td>\n",
              "      <td>germanwings-crash</td>\n",
              "      <td>query</td>\n",
              "      <td>robin name andrea lubitz copilot flight deck c...</td>\n",
              "    </tr>\n",
              "    <tr>\n",
              "      <th>1</th>\n",
              "      <td>Reply</td>\n",
              "      <td>5.81576e+17</td>\n",
              "      <td>5.81386e+17</td>\n",
              "      <td>fphantom crash mph hit concretewal dred</td>\n",
              "      <td>germanwings-crash</td>\n",
              "      <td>comment</td>\n",
              "      <td>rt german media report andreaslubitz seriou de...</td>\n",
              "    </tr>\n",
              "    <tr>\n",
              "      <th>2</th>\n",
              "      <td>Reply</td>\n",
              "      <td>5.82048e+17</td>\n",
              "      <td>5.81386e+17</td>\n",
              "      <td>er link prove intent set kill</td>\n",
              "      <td>germanwings-crash</td>\n",
              "      <td>comment</td>\n",
              "      <td>rt german media report andreaslubitz seriou de...</td>\n",
              "    </tr>\n",
              "    <tr>\n",
              "      <th>3</th>\n",
              "      <td>Reply</td>\n",
              "      <td>5.82206e+17</td>\n",
              "      <td>5.81386e+17</td>\n",
              "      <td>sure germanw copilot andreaslubitz newmot dead...</td>\n",
              "      <td>germanwings-crash</td>\n",
              "      <td>comment</td>\n",
              "      <td>rt german media report andreaslubitz seriou de...</td>\n",
              "    </tr>\n",
              "    <tr>\n",
              "      <th>4</th>\n",
              "      <td>Reply</td>\n",
              "      <td>5.81573e+17</td>\n",
              "      <td>5.81386e+17</td>\n",
              "      <td>andreaslubitz germanw dred splitup girlfriend ...</td>\n",
              "      <td>germanwings-crash</td>\n",
              "      <td>comment</td>\n",
              "      <td>rt german media report andreaslubitz seriou de...</td>\n",
              "    </tr>\n",
              "    <tr>\n",
              "      <th>...</th>\n",
              "      <td>...</td>\n",
              "      <td>...</td>\n",
              "      <td>...</td>\n",
              "      <td>...</td>\n",
              "      <td>...</td>\n",
              "      <td>...</td>\n",
              "      <td>...</td>\n",
              "    </tr>\n",
              "    <tr>\n",
              "      <th>6181</th>\n",
              "      <td>Reply</td>\n",
              "      <td>e3bn1v6</td>\n",
              "      <td>934q6t</td>\n",
              "      <td>anyon dr enuf</td>\n",
              "      <td>None</td>\n",
              "      <td>comment</td>\n",
              "      <td>iodin increas iq essenti part human diet yet a...</td>\n",
              "    </tr>\n",
              "    <tr>\n",
              "      <th>6182</th>\n",
              "      <td>Reply</td>\n",
              "      <td>e3b5lyp</td>\n",
              "      <td>934q6t</td>\n",
              "      <td>could also eat seawe that radiat fukushima</td>\n",
              "      <td>None</td>\n",
              "      <td>comment</td>\n",
              "      <td>iodin increas iq essenti part human diet yet a...</td>\n",
              "    </tr>\n",
              "    <tr>\n",
              "      <th>6183</th>\n",
              "      <td>Reply</td>\n",
              "      <td>e3b9yiy</td>\n",
              "      <td>934q6t</td>\n",
              "      <td>nascent iodin best</td>\n",
              "      <td>None</td>\n",
              "      <td>comment</td>\n",
              "      <td>iodin increas iq essenti part human diet yet a...</td>\n",
              "    </tr>\n",
              "    <tr>\n",
              "      <th>6184</th>\n",
              "      <td>Reply</td>\n",
              "      <td>e3bsdee</td>\n",
              "      <td>934q6t</td>\n",
              "      <td>tri drop sublingu tear tongu ill give solut sh...</td>\n",
              "      <td>None</td>\n",
              "      <td>comment</td>\n",
              "      <td>iodin increas iq essenti part human diet yet a...</td>\n",
              "    </tr>\n",
              "    <tr>\n",
              "      <th>6185</th>\n",
              "      <td>Reply</td>\n",
              "      <td>e3c6wgj</td>\n",
              "      <td>934q6t</td>\n",
              "      <td>niacin that not iodin</td>\n",
              "      <td>None</td>\n",
              "      <td>comment</td>\n",
              "      <td>iodin increas iq essenti part human diet yet a...</td>\n",
              "    </tr>\n",
              "  </tbody>\n",
              "</table>\n",
              "<p>6186 rows × 7 columns</p>\n",
              "</div>"
            ],
            "text/plain": [
              "       Type  ...                                         New_Source\n",
              "0     Reply  ...  robin name andrea lubitz copilot flight deck c...\n",
              "1     Reply  ...  rt german media report andreaslubitz seriou de...\n",
              "2     Reply  ...  rt german media report andreaslubitz seriou de...\n",
              "3     Reply  ...  rt german media report andreaslubitz seriou de...\n",
              "4     Reply  ...  rt german media report andreaslubitz seriou de...\n",
              "...     ...  ...                                                ...\n",
              "6181  Reply  ...  iodin increas iq essenti part human diet yet a...\n",
              "6182  Reply  ...  iodin increas iq essenti part human diet yet a...\n",
              "6183  Reply  ...  iodin increas iq essenti part human diet yet a...\n",
              "6184  Reply  ...  iodin increas iq essenti part human diet yet a...\n",
              "6185  Reply  ...  iodin increas iq essenti part human diet yet a...\n",
              "\n",
              "[6186 rows x 7 columns]"
            ]
          },
          "metadata": {},
          "execution_count": 43
        }
      ]
    },
    {
      "cell_type": "code",
      "metadata": {
        "colab": {
          "base_uri": "https://localhost:8080/"
        },
        "id": "0c7yAwfEknvi",
        "outputId": "8956846a-b081-46a7-a380-52b41eda9b3e"
      },
      "source": [
        "#Check for null/missing values\n",
        "mergedData.isnull().sum()"
      ],
      "execution_count": 44,
      "outputs": [
        {
          "output_type": "execute_result",
          "data": {
            "text/plain": [
              "Type             0\n",
              "Msg_ID           0\n",
              "Source_Msg_ID    0\n",
              "Text             0\n",
              "Topic            0\n",
              "Class            0\n",
              "New_Source       0\n",
              "dtype: int64"
            ]
          },
          "metadata": {},
          "execution_count": 44
        }
      ]
    },
    {
      "cell_type": "code",
      "metadata": {
        "id": "W17naYx7yTWO"
      },
      "source": [
        "cleaned_df = mergedData"
      ],
      "execution_count": 45,
      "outputs": []
    },
    {
      "cell_type": "code",
      "metadata": {
        "colab": {
          "base_uri": "https://localhost:8080/",
          "height": 419
        },
        "id": "w2zSSUJkZWIH",
        "outputId": "16690fe8-1afe-4f82-8f17-fc8a0638c034"
      },
      "source": [
        "cleaned_df"
      ],
      "execution_count": 46,
      "outputs": [
        {
          "output_type": "execute_result",
          "data": {
            "text/html": [
              "<div>\n",
              "<style scoped>\n",
              "    .dataframe tbody tr th:only-of-type {\n",
              "        vertical-align: middle;\n",
              "    }\n",
              "\n",
              "    .dataframe tbody tr th {\n",
              "        vertical-align: top;\n",
              "    }\n",
              "\n",
              "    .dataframe thead th {\n",
              "        text-align: right;\n",
              "    }\n",
              "</style>\n",
              "<table border=\"1\" class=\"dataframe\">\n",
              "  <thead>\n",
              "    <tr style=\"text-align: right;\">\n",
              "      <th></th>\n",
              "      <th>Type</th>\n",
              "      <th>Msg_ID</th>\n",
              "      <th>Source_Msg_ID</th>\n",
              "      <th>Text</th>\n",
              "      <th>Topic</th>\n",
              "      <th>Class</th>\n",
              "      <th>New_Source</th>\n",
              "    </tr>\n",
              "  </thead>\n",
              "  <tbody>\n",
              "    <tr>\n",
              "      <th>0</th>\n",
              "      <td>Reply</td>\n",
              "      <td>5.8107e+17</td>\n",
              "      <td>5.81063e+17</td>\n",
              "      <td>name pilot</td>\n",
              "      <td>germanwings-crash</td>\n",
              "      <td>query</td>\n",
              "      <td>robin name andrea lubitz copilot flight deck c...</td>\n",
              "    </tr>\n",
              "    <tr>\n",
              "      <th>1</th>\n",
              "      <td>Reply</td>\n",
              "      <td>5.81576e+17</td>\n",
              "      <td>5.81386e+17</td>\n",
              "      <td>fphantom crash mph hit concretewal dred</td>\n",
              "      <td>germanwings-crash</td>\n",
              "      <td>comment</td>\n",
              "      <td>rt german media report andreaslubitz seriou de...</td>\n",
              "    </tr>\n",
              "    <tr>\n",
              "      <th>2</th>\n",
              "      <td>Reply</td>\n",
              "      <td>5.82048e+17</td>\n",
              "      <td>5.81386e+17</td>\n",
              "      <td>er link prove intent set kill</td>\n",
              "      <td>germanwings-crash</td>\n",
              "      <td>comment</td>\n",
              "      <td>rt german media report andreaslubitz seriou de...</td>\n",
              "    </tr>\n",
              "    <tr>\n",
              "      <th>3</th>\n",
              "      <td>Reply</td>\n",
              "      <td>5.82206e+17</td>\n",
              "      <td>5.81386e+17</td>\n",
              "      <td>sure germanw copilot andreaslubitz newmot dead...</td>\n",
              "      <td>germanwings-crash</td>\n",
              "      <td>comment</td>\n",
              "      <td>rt german media report andreaslubitz seriou de...</td>\n",
              "    </tr>\n",
              "    <tr>\n",
              "      <th>4</th>\n",
              "      <td>Reply</td>\n",
              "      <td>5.81573e+17</td>\n",
              "      <td>5.81386e+17</td>\n",
              "      <td>andreaslubitz germanw dred splitup girlfriend ...</td>\n",
              "      <td>germanwings-crash</td>\n",
              "      <td>comment</td>\n",
              "      <td>rt german media report andreaslubitz seriou de...</td>\n",
              "    </tr>\n",
              "    <tr>\n",
              "      <th>...</th>\n",
              "      <td>...</td>\n",
              "      <td>...</td>\n",
              "      <td>...</td>\n",
              "      <td>...</td>\n",
              "      <td>...</td>\n",
              "      <td>...</td>\n",
              "      <td>...</td>\n",
              "    </tr>\n",
              "    <tr>\n",
              "      <th>6181</th>\n",
              "      <td>Reply</td>\n",
              "      <td>e3bn1v6</td>\n",
              "      <td>934q6t</td>\n",
              "      <td>anyon dr enuf</td>\n",
              "      <td>None</td>\n",
              "      <td>comment</td>\n",
              "      <td>iodin increas iq essenti part human diet yet a...</td>\n",
              "    </tr>\n",
              "    <tr>\n",
              "      <th>6182</th>\n",
              "      <td>Reply</td>\n",
              "      <td>e3b5lyp</td>\n",
              "      <td>934q6t</td>\n",
              "      <td>could also eat seawe that radiat fukushima</td>\n",
              "      <td>None</td>\n",
              "      <td>comment</td>\n",
              "      <td>iodin increas iq essenti part human diet yet a...</td>\n",
              "    </tr>\n",
              "    <tr>\n",
              "      <th>6183</th>\n",
              "      <td>Reply</td>\n",
              "      <td>e3b9yiy</td>\n",
              "      <td>934q6t</td>\n",
              "      <td>nascent iodin best</td>\n",
              "      <td>None</td>\n",
              "      <td>comment</td>\n",
              "      <td>iodin increas iq essenti part human diet yet a...</td>\n",
              "    </tr>\n",
              "    <tr>\n",
              "      <th>6184</th>\n",
              "      <td>Reply</td>\n",
              "      <td>e3bsdee</td>\n",
              "      <td>934q6t</td>\n",
              "      <td>tri drop sublingu tear tongu ill give solut sh...</td>\n",
              "      <td>None</td>\n",
              "      <td>comment</td>\n",
              "      <td>iodin increas iq essenti part human diet yet a...</td>\n",
              "    </tr>\n",
              "    <tr>\n",
              "      <th>6185</th>\n",
              "      <td>Reply</td>\n",
              "      <td>e3c6wgj</td>\n",
              "      <td>934q6t</td>\n",
              "      <td>niacin that not iodin</td>\n",
              "      <td>None</td>\n",
              "      <td>comment</td>\n",
              "      <td>iodin increas iq essenti part human diet yet a...</td>\n",
              "    </tr>\n",
              "  </tbody>\n",
              "</table>\n",
              "<p>6186 rows × 7 columns</p>\n",
              "</div>"
            ],
            "text/plain": [
              "       Type  ...                                         New_Source\n",
              "0     Reply  ...  robin name andrea lubitz copilot flight deck c...\n",
              "1     Reply  ...  rt german media report andreaslubitz seriou de...\n",
              "2     Reply  ...  rt german media report andreaslubitz seriou de...\n",
              "3     Reply  ...  rt german media report andreaslubitz seriou de...\n",
              "4     Reply  ...  rt german media report andreaslubitz seriou de...\n",
              "...     ...  ...                                                ...\n",
              "6181  Reply  ...  iodin increas iq essenti part human diet yet a...\n",
              "6182  Reply  ...  iodin increas iq essenti part human diet yet a...\n",
              "6183  Reply  ...  iodin increas iq essenti part human diet yet a...\n",
              "6184  Reply  ...  iodin increas iq essenti part human diet yet a...\n",
              "6185  Reply  ...  iodin increas iq essenti part human diet yet a...\n",
              "\n",
              "[6186 rows x 7 columns]"
            ]
          },
          "metadata": {},
          "execution_count": 46
        }
      ]
    },
    {
      "cell_type": "markdown",
      "metadata": {
        "id": "v3n0ePr_YHh-"
      },
      "source": [
        "I will be using the Text and New_Source as our two inputs(x) and Class as our y"
      ]
    },
    {
      "cell_type": "code",
      "metadata": {
        "id": "gLitmVRZyTYb"
      },
      "source": [
        "#encoding  Categorical to numerical\n",
        "# encoding class variable\n",
        "encoder = LabelEncoder()\n",
        "cleaned_df.insert(5,'Encoded_Class',encoder.fit_transform(cleaned_df['Class']))"
      ],
      "execution_count": 47,
      "outputs": []
    },
    {
      "cell_type": "code",
      "metadata": {
        "colab": {
          "base_uri": "https://localhost:8080/",
          "height": 589
        },
        "id": "3jFbtqTGyTbi",
        "outputId": "248827e2-8d47-4be6-eeef-00b6c864edaf"
      },
      "source": [
        "cleaned_df"
      ],
      "execution_count": 48,
      "outputs": [
        {
          "output_type": "execute_result",
          "data": {
            "text/html": [
              "<div>\n",
              "<style scoped>\n",
              "    .dataframe tbody tr th:only-of-type {\n",
              "        vertical-align: middle;\n",
              "    }\n",
              "\n",
              "    .dataframe tbody tr th {\n",
              "        vertical-align: top;\n",
              "    }\n",
              "\n",
              "    .dataframe thead th {\n",
              "        text-align: right;\n",
              "    }\n",
              "</style>\n",
              "<table border=\"1\" class=\"dataframe\">\n",
              "  <thead>\n",
              "    <tr style=\"text-align: right;\">\n",
              "      <th></th>\n",
              "      <th>Type</th>\n",
              "      <th>Msg_ID</th>\n",
              "      <th>Source_Msg_ID</th>\n",
              "      <th>Text</th>\n",
              "      <th>Topic</th>\n",
              "      <th>Encoded_Class</th>\n",
              "      <th>Class</th>\n",
              "      <th>New_Source</th>\n",
              "    </tr>\n",
              "  </thead>\n",
              "  <tbody>\n",
              "    <tr>\n",
              "      <th>0</th>\n",
              "      <td>Reply</td>\n",
              "      <td>5.8107e+17</td>\n",
              "      <td>5.81063e+17</td>\n",
              "      <td>name pilot</td>\n",
              "      <td>germanwings-crash</td>\n",
              "      <td>2</td>\n",
              "      <td>query</td>\n",
              "      <td>robin name andrea lubitz copilot flight deck c...</td>\n",
              "    </tr>\n",
              "    <tr>\n",
              "      <th>1</th>\n",
              "      <td>Reply</td>\n",
              "      <td>5.81576e+17</td>\n",
              "      <td>5.81386e+17</td>\n",
              "      <td>fphantom crash mph hit concretewal dred</td>\n",
              "      <td>germanwings-crash</td>\n",
              "      <td>0</td>\n",
              "      <td>comment</td>\n",
              "      <td>rt german media report andreaslubitz seriou de...</td>\n",
              "    </tr>\n",
              "    <tr>\n",
              "      <th>2</th>\n",
              "      <td>Reply</td>\n",
              "      <td>5.82048e+17</td>\n",
              "      <td>5.81386e+17</td>\n",
              "      <td>er link prove intent set kill</td>\n",
              "      <td>germanwings-crash</td>\n",
              "      <td>0</td>\n",
              "      <td>comment</td>\n",
              "      <td>rt german media report andreaslubitz seriou de...</td>\n",
              "    </tr>\n",
              "    <tr>\n",
              "      <th>3</th>\n",
              "      <td>Reply</td>\n",
              "      <td>5.82206e+17</td>\n",
              "      <td>5.81386e+17</td>\n",
              "      <td>sure germanw copilot andreaslubitz newmot dead...</td>\n",
              "      <td>germanwings-crash</td>\n",
              "      <td>0</td>\n",
              "      <td>comment</td>\n",
              "      <td>rt german media report andreaslubitz seriou de...</td>\n",
              "    </tr>\n",
              "    <tr>\n",
              "      <th>4</th>\n",
              "      <td>Reply</td>\n",
              "      <td>5.81573e+17</td>\n",
              "      <td>5.81386e+17</td>\n",
              "      <td>andreaslubitz germanw dred splitup girlfriend ...</td>\n",
              "      <td>germanwings-crash</td>\n",
              "      <td>0</td>\n",
              "      <td>comment</td>\n",
              "      <td>rt german media report andreaslubitz seriou de...</td>\n",
              "    </tr>\n",
              "    <tr>\n",
              "      <th>...</th>\n",
              "      <td>...</td>\n",
              "      <td>...</td>\n",
              "      <td>...</td>\n",
              "      <td>...</td>\n",
              "      <td>...</td>\n",
              "      <td>...</td>\n",
              "      <td>...</td>\n",
              "      <td>...</td>\n",
              "    </tr>\n",
              "    <tr>\n",
              "      <th>6181</th>\n",
              "      <td>Reply</td>\n",
              "      <td>e3bn1v6</td>\n",
              "      <td>934q6t</td>\n",
              "      <td>anyon dr enuf</td>\n",
              "      <td>None</td>\n",
              "      <td>0</td>\n",
              "      <td>comment</td>\n",
              "      <td>iodin increas iq essenti part human diet yet a...</td>\n",
              "    </tr>\n",
              "    <tr>\n",
              "      <th>6182</th>\n",
              "      <td>Reply</td>\n",
              "      <td>e3b5lyp</td>\n",
              "      <td>934q6t</td>\n",
              "      <td>could also eat seawe that radiat fukushima</td>\n",
              "      <td>None</td>\n",
              "      <td>0</td>\n",
              "      <td>comment</td>\n",
              "      <td>iodin increas iq essenti part human diet yet a...</td>\n",
              "    </tr>\n",
              "    <tr>\n",
              "      <th>6183</th>\n",
              "      <td>Reply</td>\n",
              "      <td>e3b9yiy</td>\n",
              "      <td>934q6t</td>\n",
              "      <td>nascent iodin best</td>\n",
              "      <td>None</td>\n",
              "      <td>0</td>\n",
              "      <td>comment</td>\n",
              "      <td>iodin increas iq essenti part human diet yet a...</td>\n",
              "    </tr>\n",
              "    <tr>\n",
              "      <th>6184</th>\n",
              "      <td>Reply</td>\n",
              "      <td>e3bsdee</td>\n",
              "      <td>934q6t</td>\n",
              "      <td>tri drop sublingu tear tongu ill give solut sh...</td>\n",
              "      <td>None</td>\n",
              "      <td>0</td>\n",
              "      <td>comment</td>\n",
              "      <td>iodin increas iq essenti part human diet yet a...</td>\n",
              "    </tr>\n",
              "    <tr>\n",
              "      <th>6185</th>\n",
              "      <td>Reply</td>\n",
              "      <td>e3c6wgj</td>\n",
              "      <td>934q6t</td>\n",
              "      <td>niacin that not iodin</td>\n",
              "      <td>None</td>\n",
              "      <td>0</td>\n",
              "      <td>comment</td>\n",
              "      <td>iodin increas iq essenti part human diet yet a...</td>\n",
              "    </tr>\n",
              "  </tbody>\n",
              "</table>\n",
              "<p>6186 rows × 8 columns</p>\n",
              "</div>"
            ],
            "text/plain": [
              "       Type  ...                                         New_Source\n",
              "0     Reply  ...  robin name andrea lubitz copilot flight deck c...\n",
              "1     Reply  ...  rt german media report andreaslubitz seriou de...\n",
              "2     Reply  ...  rt german media report andreaslubitz seriou de...\n",
              "3     Reply  ...  rt german media report andreaslubitz seriou de...\n",
              "4     Reply  ...  rt german media report andreaslubitz seriou de...\n",
              "...     ...  ...                                                ...\n",
              "6181  Reply  ...  iodin increas iq essenti part human diet yet a...\n",
              "6182  Reply  ...  iodin increas iq essenti part human diet yet a...\n",
              "6183  Reply  ...  iodin increas iq essenti part human diet yet a...\n",
              "6184  Reply  ...  iodin increas iq essenti part human diet yet a...\n",
              "6185  Reply  ...  iodin increas iq essenti part human diet yet a...\n",
              "\n",
              "[6186 rows x 8 columns]"
            ]
          },
          "metadata": {},
          "execution_count": 48
        }
      ]
    },
    {
      "cell_type": "code",
      "metadata": {
        "colab": {
          "base_uri": "https://localhost:8080/"
        },
        "id": "1YIievHO5wkf",
        "outputId": "acbaaf08-248f-41c0-fb4a-3a96e95c4f22"
      },
      "source": [
        "cleaned_df['Class'].value_counts()"
      ],
      "execution_count": 49,
      "outputs": [
        {
          "output_type": "execute_result",
          "data": {
            "text/plain": [
              "comment    4510\n",
              "support     646\n",
              "query       519\n",
              "deny        511\n",
              "Name: Class, dtype: int64"
            ]
          },
          "metadata": {},
          "execution_count": 49
        }
      ]
    },
    {
      "cell_type": "code",
      "metadata": {
        "colab": {
          "base_uri": "https://localhost:8080/"
        },
        "id": "NJOOTn2Db729",
        "outputId": "531eba02-9f40-4291-84ab-7174abcd0afd"
      },
      "source": [
        "cleaned_df['Encoded_Class'].value_counts()"
      ],
      "execution_count": 50,
      "outputs": [
        {
          "output_type": "execute_result",
          "data": {
            "text/plain": [
              "0    4510\n",
              "3     646\n",
              "2     519\n",
              "1     511\n",
              "Name: Encoded_Class, dtype: int64"
            ]
          },
          "metadata": {},
          "execution_count": 50
        }
      ]
    },
    {
      "cell_type": "code",
      "metadata": {
        "id": "0OqUYQUHb8B3"
      },
      "source": [
        "# Early Stopping\n",
        "# early stopping to prevent overfitting\n",
        "early_stopping = tf.keras.callbacks.EarlyStopping(\n",
        "    monitor='val_f1_score', \n",
        "    verbose=1,\n",
        "    patience=10,\n",
        "    mode='max',\n",
        "    restore_best_weights=True)"
      ],
      "execution_count": 51,
      "outputs": []
    },
    {
      "cell_type": "code",
      "metadata": {
        "id": "7FIkMbZicgIS"
      },
      "source": [
        "#Learning Curve Plotter\n",
        "from itertools import cycle\n",
        "def plotter(history_hold, metric = 'binary_crossentropy', ylim=[0.0, 1.0]):\n",
        "  cycol = cycle('bgrcmk')\n",
        "  plt.figure(figsize=(12,8))\n",
        "  for name, item in history_hold.items():\n",
        "    y_train = item.history[metric]\n",
        "    y_val = item.history['val_' + metric]\n",
        "    x_train = np.arange(0,len(y_val))\n",
        "    \n",
        "    c=next(cycol)\n",
        "\n",
        "    plt.plot(x_train, y_train, c+'-', label=name+'_train')\n",
        "    plt.plot(x_train, y_val, c+'--', label=name+'_val')\n",
        "\n",
        "  plt.legend()\n",
        "  plt.xlim([1, max(plt.xlim())])\n",
        "  plt.ylim(ylim)\n",
        "  plt.xlabel('Epoch')\n",
        "  plt.ylabel(metric)\n",
        "  plt.grid(True)"
      ],
      "execution_count": 52,
      "outputs": []
    },
    {
      "cell_type": "markdown",
      "metadata": {
        "id": "qtzMYC5Ec2RD"
      },
      "source": [
        "## Generating the task vocabulary\n",
        " using the keras Tokenizer to generate a vocabulary for the data"
      ]
    },
    {
      "cell_type": "code",
      "metadata": {
        "id": "3WFByHt0csQT"
      },
      "source": [
        "# tokenizing and generating sequence\n",
        "tokenizer_obj = Tokenizer()\n",
        "tokenizer_obj.fit_on_texts(cleaned_df['Text'].values)\n",
        "X1 = tokenizer_obj.texts_to_sequences(cleaned_df['Text'].values)\n",
        "\n",
        "tokenizer_obj.fit_on_texts(cleaned_df['New_Source'].values)\n",
        "X2 = tokenizer_obj.texts_to_sequences(cleaned_df['New_Source'].values)\n"
      ],
      "execution_count": 53,
      "outputs": []
    },
    {
      "cell_type": "code",
      "metadata": {
        "colab": {
          "base_uri": "https://localhost:8080/"
        },
        "id": "1VopV97TcsZ0",
        "outputId": "c1b9f9e7-690e-41c4-f5cc-1a269c6eb806"
      },
      "source": [
        "word_index = tokenizer_obj.word_index\n",
        "print(\"unique_tokens - \"+str(len(word_index)))\n",
        "\n",
        "vocab_size = len(tokenizer_obj.word_index) + 1\n",
        "print('vocabulary_size - '+str(vocab_size))"
      ],
      "execution_count": 54,
      "outputs": [
        {
          "output_type": "stream",
          "name": "stdout",
          "text": [
            "unique_tokens - 8109\n",
            "vocabulary_size - 8110\n"
          ]
        }
      ]
    },
    {
      "cell_type": "code",
      "metadata": {
        "id": "pYRhK0GzefX-"
      },
      "source": [
        "#pad each sequence to the same length\n",
        "X1 = pad_sequences(X1,maxlen= 50)\n",
        "X2 = pad_sequences(X2,maxlen= 50)\n"
      ],
      "execution_count": 55,
      "outputs": []
    },
    {
      "cell_type": "code",
      "metadata": {
        "colab": {
          "base_uri": "https://localhost:8080/"
        },
        "id": "D9DATTYifWk7",
        "outputId": "186425b4-5d95-44f7-c657-a919b0e5f7ba"
      },
      "source": [
        "X1[1]"
      ],
      "execution_count": 56,
      "outputs": [
        {
          "output_type": "execute_result",
          "data": {
            "text/plain": [
              "array([   0,    0,    0,    0,    0,    0,    0,    0,    0,    0,    0,\n",
              "          0,    0,    0,    0,    0,    0,    0,    0,    0,    0,    0,\n",
              "          0,    0,    0,    0,    0,    0,    0,    0,    0,    0,    0,\n",
              "          0,    0,    0,    0,    0,    0,    0,    0,    0,    0,    0,\n",
              "       3794,  242, 3795,  981, 3796, 1659], dtype=int32)"
            ]
          },
          "metadata": {},
          "execution_count": 56
        }
      ]
    },
    {
      "cell_type": "code",
      "metadata": {
        "colab": {
          "base_uri": "https://localhost:8080/"
        },
        "id": "aMaTCJtafWv-",
        "outputId": "8252d895-8654-44dd-f693-f01f3d0a5354"
      },
      "source": [
        "X2[1]"
      ],
      "execution_count": 57,
      "outputs": [
        {
          "output_type": "execute_result",
          "data": {
            "text/plain": [
              "array([   0,    0,    0,    0,    0,    0,    0,    0,    0,    0,    0,\n",
              "          0,    0,    0,    0,    0,    0,    0,    0,    0,    0,    0,\n",
              "          0,    0,    0,    0,    0,    0,    0,    0,    0,    0,    0,\n",
              "          0,    0,    0,    0,    0,    0,   92,  355,  105,    8, 1447,\n",
              "         83,  440,  661,  557,  196,  461], dtype=int32)"
            ]
          },
          "metadata": {},
          "execution_count": 57
        }
      ]
    },
    {
      "cell_type": "code",
      "metadata": {
        "colab": {
          "base_uri": "https://localhost:8080/"
        },
        "id": "IP0WDNkWefkH",
        "outputId": "7e663f66-9eee-4c81-e930-e5e2f3c4d569"
      },
      "source": [
        "X1.shape"
      ],
      "execution_count": 58,
      "outputs": [
        {
          "output_type": "execute_result",
          "data": {
            "text/plain": [
              "(6186, 50)"
            ]
          },
          "metadata": {},
          "execution_count": 58
        }
      ]
    },
    {
      "cell_type": "code",
      "metadata": {
        "colab": {
          "base_uri": "https://localhost:8080/"
        },
        "id": "R7-hDIGLfs4f",
        "outputId": "4dd25d88-4468-4a83-b5f0-1ff79d24b31a"
      },
      "source": [
        "X2.shape"
      ],
      "execution_count": 59,
      "outputs": [
        {
          "output_type": "execute_result",
          "data": {
            "text/plain": [
              "(6186, 50)"
            ]
          },
          "metadata": {},
          "execution_count": 59
        }
      ]
    },
    {
      "cell_type": "code",
      "metadata": {
        "id": "R819092pfvbx"
      },
      "source": [
        "#label encoding the Y target\n",
        "Y = pd.get_dummies(cleaned_df['Encoded_Class'])"
      ],
      "execution_count": 60,
      "outputs": []
    },
    {
      "cell_type": "code",
      "metadata": {
        "colab": {
          "base_uri": "https://localhost:8080/"
        },
        "id": "0cV81Fntfvgr",
        "outputId": "6b6513f1-fe7d-4ec4-9a2d-eb53da911400"
      },
      "source": [
        "Y.shape"
      ],
      "execution_count": 61,
      "outputs": [
        {
          "output_type": "execute_result",
          "data": {
            "text/plain": [
              "(6186, 4)"
            ]
          },
          "metadata": {},
          "execution_count": 61
        }
      ]
    },
    {
      "cell_type": "markdown",
      "metadata": {
        "id": "7FbNmxZygGjt"
      },
      "source": [
        "# Spliiting up Data\n",
        "Split the dataset into train, test and validation"
      ]
    },
    {
      "cell_type": "code",
      "metadata": {
        "id": "44DS0s0ggGKz"
      },
      "source": [
        "from sklearn.model_selection import train_test_split\n",
        "X1_train, X1_test, X2_train, X2_test, Y_train, Y_test = train_test_split(X1, X2, Y, test_size = 0.3, stratify = Y)\n",
        "X1_train, X1_val, X2_train, X2_val, Y_train, Y_val = train_test_split(X1_train, X2_train,  Y_train, test_size = 0.25, stratify = Y_train)"
      ],
      "execution_count": 62,
      "outputs": []
    },
    {
      "cell_type": "code",
      "metadata": {
        "colab": {
          "base_uri": "https://localhost:8080/"
        },
        "id": "6TJlt1QwhX6h",
        "outputId": "81b2c99f-1ea0-4e18-9dff-9a406c0047ec"
      },
      "source": [
        "print('Shape of X1_train:',X1_train.shape,'Shape of Y_train:',Y_train.shape)\n",
        "print('Shape of X2_train:',X2_train.shape,'Shape of Y_train:',Y_train.shape)\n",
        "print('Shape of X1_val:',X1_val.shape,'Shape of Y_val:',Y_val.shape)\n",
        "print('Shape of X2_val:',X2_val.shape,'Shape of Y_val:',Y_val.shape)\n",
        "print('Shape of X1_test:',X1_test.shape,'Shape of Y_test:',Y_test.shape)\n",
        "print('Shape of X2_test:',X2_test.shape,'Shape of Y_test:',Y_test.shape)"
      ],
      "execution_count": 63,
      "outputs": [
        {
          "output_type": "stream",
          "name": "stdout",
          "text": [
            "Shape of X1_train: (3247, 50) Shape of Y_train: (3247, 4)\n",
            "Shape of X2_train: (3247, 50) Shape of Y_train: (3247, 4)\n",
            "Shape of X1_val: (1083, 50) Shape of Y_val: (1083, 4)\n",
            "Shape of X2_val: (1083, 50) Shape of Y_val: (1083, 4)\n",
            "Shape of X1_test: (1856, 50) Shape of Y_test: (1856, 4)\n",
            "Shape of X2_test: (1856, 50) Shape of Y_test: (1856, 4)\n"
          ]
        }
      ]
    },
    {
      "cell_type": "code",
      "metadata": {
        "colab": {
          "base_uri": "https://localhost:8080/"
        },
        "id": "EOxeU_Q8rO1Q",
        "outputId": "04575662-f1ba-4462-e329-49fb1a17faab"
      },
      "source": [
        "X1_train"
      ],
      "execution_count": 64,
      "outputs": [
        {
          "output_type": "execute_result",
          "data": {
            "text/plain": [
              "array([[   0,    0,    0, ...,    0,  101,   41],\n",
              "       [   0,    0,    0, ...,  171,   86,  127],\n",
              "       [   0,    0,    0, ...,   35,    5,  365],\n",
              "       ...,\n",
              "       [   0,    0,    0, ...,  360,  323,   49],\n",
              "       [   0,    0,    0, ...,   76,   29, 6135],\n",
              "       [   0,    0,    0, ...,  107,   32,  239]], dtype=int32)"
            ]
          },
          "metadata": {},
          "execution_count": 64
        }
      ]
    },
    {
      "cell_type": "code",
      "metadata": {
        "id": "Qs8SwCsefvnD"
      },
      "source": [
        "Y_test = Y_test.idxmax(axis=1)"
      ],
      "execution_count": 65,
      "outputs": []
    },
    {
      "cell_type": "markdown",
      "metadata": {
        "id": "riIIc3yNizC_"
      },
      "source": [
        "## Evaluation Matric\n",
        "I chose macro average F1 score as my performance matric because my data is highly imbalanced. I have chosen Accuracy as my another performance matrix to see how well my model perform and see the TP,FP, TN, FN"
      ]
    },
    {
      "cell_type": "code",
      "metadata": {
        "id": "YfBVDmlQfvqE"
      },
      "source": [
        "# Performance Matric\n",
        "def define_metric():\n",
        "  metric = [tfa.metrics.F1Score(num_classes=4,average='macro'), tf.keras.metrics.CategoricalAccuracy(name='accuracy'),]\n",
        "  return metric"
      ],
      "execution_count": 66,
      "outputs": []
    },
    {
      "cell_type": "code",
      "metadata": {
        "id": "eTQKiCzTfvse"
      },
      "source": [
        "# confusion matrix plot\n",
        "def plot_Confusion_Matric(labels, predictions):\n",
        "  conf = confusion_matrix(labels, predictions)\n",
        "  plt.figure(figsize=(10,6))\n",
        "  sns.heatmap(conf, annot=True, fmt=\"d\")\n",
        "  plt.title('Confusion - Matrics @{:.2f}')\n",
        "  plt.ylabel('Actual - label')\n",
        "  plt.xlabel('Predicted - label')"
      ],
      "execution_count": 67,
      "outputs": []
    },
    {
      "cell_type": "markdown",
      "metadata": {
        "id": "lxJ7475gk6Gd"
      },
      "source": [
        "## Baseline Model\n",
        "# No Transfer Learning\n",
        "I have selected simple LSTM model without transfer learning"
      ]
    },
    {
      "cell_type": "code",
      "metadata": {
        "id": "kM6Fgq_ckPQM"
      },
      "source": [
        "def get_callbacks(name):\n",
        "  return [\n",
        "    tf.keras.callbacks.TensorBoard(logdir/name, histogram_freq=1),\n",
        "  ]"
      ],
      "execution_count": 68,
      "outputs": []
    },
    {
      "cell_type": "code",
      "metadata": {
        "id": "SHv5rsWQlY-x"
      },
      "source": [
        "# learning rate decay scheduler\n",
        "lr_schedule = tf.keras.optimizers.schedules.ExponentialDecay(\n",
        "    initial_learning_rate=1e-2,\n",
        "    decay_steps=10000,\n",
        "    decay_rate=0.9)"
      ],
      "execution_count": 69,
      "outputs": []
    },
    {
      "cell_type": "code",
      "metadata": {
        "colab": {
          "base_uri": "https://localhost:8080/"
        },
        "id": "6U4mgAowkPcK",
        "outputId": "4477263b-c6f7-4c31-9d4a-4cf8e1b94e15"
      },
      "source": [
        "from tensorflow.keras.layers import Dense, Embedding, GRU, LSTM, Bidirectional\n",
        "from tensorflow.keras.models import Sequential\n",
        "\n",
        "embedding_dim = 50\n",
        "\n",
        "reply_text_inp = Input(shape=(X1_train.shape[1]), name='reply_text_inp')\n",
        "new_source_inp = Input(shape=(X2_train.shape[1]), name='new_source_inp')\n",
        "\n",
        "embedding_layer = Embedding(len(word_index) + 1, embedding_dim, input_length = X1_train.shape[1] , trainable=True)\n",
        "\n",
        "x1 = embedding_layer(reply_text_inp)\n",
        "x2 = embedding_layer(new_source_inp)\n",
        "\n",
        "x = tf.keras.layers.concatenate([x1, x2])\n",
        "\n",
        "x = LSTM(32, return_sequences=False)(x)\n",
        "\n",
        "output = Dense(4, activation ='softmax', name ='output')(x)\n",
        "\n",
        "model_WL = Model(inputs=[reply_text_inp, new_source_inp], outputs = [output])\n",
        "\n",
        "model_WL.compile(loss=tf.keras.losses.CategoricalCrossentropy(from_logits = False),\n",
        "              optimizer=tf.keras.optimizers.Adam(),\n",
        "              metrics = define_metric())\n",
        "\n",
        "print(model_WL.summary())"
      ],
      "execution_count": 70,
      "outputs": [
        {
          "output_type": "stream",
          "name": "stdout",
          "text": [
            "Model: \"model\"\n",
            "__________________________________________________________________________________________________\n",
            "Layer (type)                    Output Shape         Param #     Connected to                     \n",
            "==================================================================================================\n",
            "reply_text_inp (InputLayer)     [(None, 50)]         0                                            \n",
            "__________________________________________________________________________________________________\n",
            "new_source_inp (InputLayer)     [(None, 50)]         0                                            \n",
            "__________________________________________________________________________________________________\n",
            "embedding (Embedding)           (None, 50, 50)       405500      reply_text_inp[0][0]             \n",
            "                                                                 new_source_inp[0][0]             \n",
            "__________________________________________________________________________________________________\n",
            "concatenate (Concatenate)       (None, 50, 100)      0           embedding[0][0]                  \n",
            "                                                                 embedding[1][0]                  \n",
            "__________________________________________________________________________________________________\n",
            "lstm (LSTM)                     (None, 32)           17024       concatenate[0][0]                \n",
            "__________________________________________________________________________________________________\n",
            "output (Dense)                  (None, 4)            132         lstm[0][0]                       \n",
            "==================================================================================================\n",
            "Total params: 422,656\n",
            "Trainable params: 422,656\n",
            "Non-trainable params: 0\n",
            "__________________________________________________________________________________________________\n",
            "None\n"
          ]
        }
      ]
    },
    {
      "cell_type": "code",
      "metadata": {
        "id": "LRV4ShpsnqDN"
      },
      "source": [
        "batch_size = 32\n",
        "m_histories = {}\n",
        "EPOCH = 50"
      ],
      "execution_count": 71,
      "outputs": []
    },
    {
      "cell_type": "code",
      "metadata": {
        "colab": {
          "base_uri": "https://localhost:8080/"
        },
        "id": "blf6vZ0TnqFu",
        "outputId": "a5718f53-c0e8-45b0-b194-4b9e678f3ee1"
      },
      "source": [
        "m_histories['WL'] =  model_WL.fit([X1_train,X2_train], Y_train, validation_data=([X1_val,X2_val], Y_val), epochs = EPOCH, batch_size=batch_size,callbacks= [early_stopping])"
      ],
      "execution_count": 72,
      "outputs": [
        {
          "output_type": "stream",
          "name": "stdout",
          "text": [
            "Epoch 1/50\n",
            "102/102 [==============================] - 9s 21ms/step - loss: 0.9428 - f1_score: 0.2209 - accuracy: 0.7200 - val_loss: 0.8716 - val_f1_score: 0.2109 - val_accuracy: 0.7295\n",
            "Epoch 2/50\n",
            "102/102 [==============================] - 2s 15ms/step - loss: 0.8340 - f1_score: 0.2108 - accuracy: 0.7290 - val_loss: 0.8474 - val_f1_score: 0.2109 - val_accuracy: 0.7295\n",
            "Epoch 3/50\n",
            "102/102 [==============================] - 2s 16ms/step - loss: 0.6896 - f1_score: 0.3200 - accuracy: 0.7475 - val_loss: 0.8663 - val_f1_score: 0.2638 - val_accuracy: 0.7239\n",
            "Epoch 4/50\n",
            "102/102 [==============================] - 2s 16ms/step - loss: 0.4939 - f1_score: 0.5794 - accuracy: 0.8192 - val_loss: 0.9464 - val_f1_score: 0.3396 - val_accuracy: 0.7091\n",
            "Epoch 5/50\n",
            "102/102 [==============================] - 1s 15ms/step - loss: 0.3398 - f1_score: 0.7504 - accuracy: 0.8827 - val_loss: 1.0986 - val_f1_score: 0.3481 - val_accuracy: 0.6805\n",
            "Epoch 6/50\n",
            "102/102 [==============================] - 2s 15ms/step - loss: 0.2130 - f1_score: 0.8575 - accuracy: 0.9285 - val_loss: 1.1760 - val_f1_score: 0.3606 - val_accuracy: 0.6371\n",
            "Epoch 7/50\n",
            "102/102 [==============================] - 2s 15ms/step - loss: 0.1398 - f1_score: 0.9215 - accuracy: 0.9581 - val_loss: 1.3153 - val_f1_score: 0.3713 - val_accuracy: 0.6510\n",
            "Epoch 8/50\n",
            "102/102 [==============================] - 2s 15ms/step - loss: 0.0904 - f1_score: 0.9509 - accuracy: 0.9729 - val_loss: 1.3895 - val_f1_score: 0.3667 - val_accuracy: 0.6417\n",
            "Epoch 9/50\n",
            "102/102 [==============================] - 2s 16ms/step - loss: 0.0590 - f1_score: 0.9730 - accuracy: 0.9855 - val_loss: 1.4754 - val_f1_score: 0.3733 - val_accuracy: 0.6574\n",
            "Epoch 10/50\n",
            "102/102 [==============================] - 2s 15ms/step - loss: 0.0428 - f1_score: 0.9829 - accuracy: 0.9905 - val_loss: 1.6335 - val_f1_score: 0.3629 - val_accuracy: 0.6325\n",
            "Epoch 11/50\n",
            "102/102 [==============================] - 2s 15ms/step - loss: 0.0324 - f1_score: 0.9895 - accuracy: 0.9935 - val_loss: 1.7118 - val_f1_score: 0.3780 - val_accuracy: 0.6620\n",
            "Epoch 12/50\n",
            "102/102 [==============================] - 2s 15ms/step - loss: 0.0243 - f1_score: 0.9937 - accuracy: 0.9960 - val_loss: 1.7872 - val_f1_score: 0.3507 - val_accuracy: 0.6353\n",
            "Epoch 13/50\n",
            "102/102 [==============================] - 2s 16ms/step - loss: 0.0224 - f1_score: 0.9916 - accuracy: 0.9948 - val_loss: 1.7943 - val_f1_score: 0.3490 - val_accuracy: 0.6307\n",
            "Epoch 14/50\n",
            "102/102 [==============================] - 2s 15ms/step - loss: 0.0143 - f1_score: 0.9964 - accuracy: 0.9978 - val_loss: 1.9057 - val_f1_score: 0.3572 - val_accuracy: 0.6297\n",
            "Epoch 15/50\n",
            "102/102 [==============================] - 2s 15ms/step - loss: 0.0125 - f1_score: 0.9978 - accuracy: 0.9985 - val_loss: 1.9685 - val_f1_score: 0.3598 - val_accuracy: 0.6556\n",
            "Epoch 16/50\n",
            "102/102 [==============================] - 2s 15ms/step - loss: 0.0088 - f1_score: 0.9978 - accuracy: 0.9988 - val_loss: 2.0887 - val_f1_score: 0.3532 - val_accuracy: 0.6399\n",
            "Epoch 17/50\n",
            "102/102 [==============================] - 2s 15ms/step - loss: 0.0120 - f1_score: 0.9983 - accuracy: 0.9988 - val_loss: 2.0692 - val_f1_score: 0.3354 - val_accuracy: 0.6537\n",
            "Epoch 18/50\n",
            "102/102 [==============================] - 2s 16ms/step - loss: 0.0286 - f1_score: 0.9872 - accuracy: 0.9917 - val_loss: 1.9133 - val_f1_score: 0.3466 - val_accuracy: 0.6417\n",
            "Epoch 19/50\n",
            "102/102 [==============================] - 2s 15ms/step - loss: 0.0171 - f1_score: 0.9946 - accuracy: 0.9963 - val_loss: 2.0476 - val_f1_score: 0.3387 - val_accuracy: 0.6168\n",
            "Epoch 20/50\n",
            "102/102 [==============================] - 2s 15ms/step - loss: 0.0104 - f1_score: 0.9956 - accuracy: 0.9972 - val_loss: 2.1864 - val_f1_score: 0.3508 - val_accuracy: 0.6279\n",
            "Epoch 21/50\n",
            "102/102 [==============================] - 2s 15ms/step - loss: 0.0055 - f1_score: 0.9987 - accuracy: 0.9991 - val_loss: 2.2709 - val_f1_score: 0.3481 - val_accuracy: 0.6334\n",
            "Restoring model weights from the end of the best epoch.\n",
            "Epoch 00021: early stopping\n"
          ]
        }
      ]
    },
    {
      "cell_type": "code",
      "metadata": {
        "colab": {
          "base_uri": "https://localhost:8080/",
          "height": 501
        },
        "id": "IKAoG7RQnqIa",
        "outputId": "910b889a-ca2f-4cb5-fedf-3dfaf1bf76d8"
      },
      "source": [
        "plotter(m_histories, ylim=[0.0, 2.0], metric = 'loss')"
      ],
      "execution_count": 73,
      "outputs": [
        {
          "output_type": "display_data",
          "data": {
            "image/png": "[encoded data removed]",
            "text/plain": [
              "<Figure size 864x576 with 1 Axes>"
            ]
          },
          "metadata": {
            "needs_background": "light"
          }
        }
      ]
    },
    {
      "cell_type": "markdown",
      "metadata": {
        "id": "oj5DpG-Lt7Rx"
      },
      "source": [
        "It can be clearly see that, our model is overfitting."
      ]
    },
    {
      "cell_type": "code",
      "metadata": {
        "colab": {
          "base_uri": "https://localhost:8080/",
          "height": 497
        },
        "id": "LCIHTTRInqLO",
        "outputId": "c2c84fd7-668e-4c10-a016-c7a9385c806b"
      },
      "source": [
        "plotter(m_histories, ylim=[0.0, 1.1], metric = 'accuracy')"
      ],
      "execution_count": 74,
      "outputs": [
        {
          "output_type": "display_data",
          "data": {
            "image/png": "[encoded data removed]",
            "text/plain": [
              "<Figure size 864x576 with 1 Axes>"
            ]
          },
          "metadata": {
            "needs_background": "light"
          }
        }
      ]
    },
    {
      "cell_type": "code",
      "metadata": {
        "colab": {
          "base_uri": "https://localhost:8080/"
        },
        "id": "lGNQXxd7uYRN",
        "outputId": "316e36a2-6869-4da8-90d6-c12a1e9c754b"
      },
      "source": [
        "Y_predict_WL = model_WL.predict([X1_test,X2_test])\n",
        "Y_predict_WL = np.argmax(Y_predict_WL, axis = 1)\n",
        "\n",
        "print(classification_report(Y_test,Y_predict_WL))"
      ],
      "execution_count": 75,
      "outputs": [
        {
          "output_type": "stream",
          "name": "stdout",
          "text": [
            "              precision    recall  f1-score   support\n",
            "\n",
            "           0       0.77      0.83      0.80      1353\n",
            "           1       0.19      0.16      0.17       153\n",
            "           2       0.16      0.10      0.12       156\n",
            "           3       0.24      0.21      0.22       194\n",
            "\n",
            "    accuracy                           0.65      1856\n",
            "   macro avg       0.34      0.32      0.33      1856\n",
            "weighted avg       0.61      0.65      0.63      1856\n",
            "\n"
          ]
        }
      ]
    },
    {
      "cell_type": "code",
      "metadata": {
        "colab": {
          "base_uri": "https://localhost:8080/",
          "height": 404
        },
        "id": "TU7r80L-uYUM",
        "outputId": "8705cba9-6ab1-4c30-e353-0c1ef2a18ab3"
      },
      "source": [
        "import seaborn as sns\n",
        "plot_Confusion_Matric(Y_test,Y_predict_WL)"
      ],
      "execution_count": 76,
      "outputs": [
        {
          "output_type": "display_data",
          "data": {
            "image/png": "[encoded data removed]",
            "text/plain": [
              "<Figure size 720x432 with 2 Axes>"
            ]
          },
          "metadata": {
            "needs_background": "light"
          }
        }
      ]
    },
    {
      "cell_type": "markdown",
      "metadata": {
        "id": "f1418kYcvXj1"
      },
      "source": [
        "# Baseline Model with Class Weights & Dropouts"
      ]
    },
    {
      "cell_type": "code",
      "metadata": {
        "colab": {
          "base_uri": "https://localhost:8080/"
        },
        "id": "T8GYr58iuYW0",
        "outputId": "77631a46-5d41-4cc6-d8eb-5a09a81ea091"
      },
      "source": [
        "embedding_dim = 100\n",
        "\n",
        "reply_text_inp = Input(shape=(X1_train.shape[1]), name='reply_text_inp')\n",
        "new_source_inp = Input(shape=(X2_train.shape[1]), name='new_source_inp')\n",
        "\n",
        "embedding_layer = Embedding(len(word_index) + 1, embedding_dim, input_length = X1_train.shape[1] , trainable=True)\n",
        "\n",
        "x1 = embedding_layer(reply_text_inp)\n",
        "x2 = embedding_layer(new_source_inp)\n",
        "\n",
        "x = tf.keras.layers.concatenate([x1, x2])\n",
        "\n",
        "x = SpatialDropout1D(0.2)(x) #add dropout layer of 0.2\n",
        "x = LSTM(32, dropout=0.5, recurrent_dropout=0.2, return_sequences=False)(x)\n",
        "\n",
        "output = Dense(4, activation ='softmax', name ='output')(x)\n",
        "\n",
        "model_WL_dropout = Model(inputs=[reply_text_inp, new_source_inp], outputs = [output])\n",
        "\n",
        "model_WL_dropout.compile(loss=tf.keras.losses.CategoricalCrossentropy(from_logits = False),\n",
        "              optimizer=tf.keras.optimizers.Adam(),\n",
        "              metrics = define_metric())\n",
        "\n",
        "print(model_WL_dropout.summary())"
      ],
      "execution_count": 77,
      "outputs": [
        {
          "output_type": "stream",
          "name": "stdout",
          "text": [
            "WARNING:tensorflow:Layer lstm_1 will not use cuDNN kernels since it doesn't meet the criteria. It will use a generic GPU kernel as fallback when running on GPU.\n",
            "Model: \"model_1\"\n",
            "__________________________________________________________________________________________________\n",
            "Layer (type)                    Output Shape         Param #     Connected to                     \n",
            "==================================================================================================\n",
            "reply_text_inp (InputLayer)     [(None, 50)]         0                                            \n",
            "__________________________________________________________________________________________________\n",
            "new_source_inp (InputLayer)     [(None, 50)]         0                                            \n",
            "__________________________________________________________________________________________________\n",
            "embedding_1 (Embedding)         (None, 50, 100)      811000      reply_text_inp[0][0]             \n",
            "                                                                 new_source_inp[0][0]             \n",
            "__________________________________________________________________________________________________\n",
            "concatenate_1 (Concatenate)     (None, 50, 200)      0           embedding_1[0][0]                \n",
            "                                                                 embedding_1[1][0]                \n",
            "__________________________________________________________________________________________________\n",
            "spatial_dropout1d (SpatialDropo (None, 50, 200)      0           concatenate_1[0][0]              \n",
            "__________________________________________________________________________________________________\n",
            "lstm_1 (LSTM)                   (None, 32)           29824       spatial_dropout1d[0][0]          \n",
            "__________________________________________________________________________________________________\n",
            "output (Dense)                  (None, 4)            132         lstm_1[0][0]                     \n",
            "==================================================================================================\n",
            "Total params: 840,956\n",
            "Trainable params: 840,956\n",
            "Non-trainable params: 0\n",
            "__________________________________________________________________________________________________\n",
            "None\n"
          ]
        }
      ]
    },
    {
      "cell_type": "code",
      "metadata": {
        "id": "FABisOPZwsfx"
      },
      "source": [
        "# compute class weights\n",
        "class_W = compute_class_weight('balanced', np.unique(cleaned_df['Class']), cleaned_df['Class'])\n",
        "class_W = dict(enumerate(class_W))"
      ],
      "execution_count": 78,
      "outputs": []
    },
    {
      "cell_type": "code",
      "metadata": {
        "colab": {
          "base_uri": "https://localhost:8080/"
        },
        "id": "FmfYfpxrw5_6",
        "outputId": "f628e9ff-01b3-44a9-8ce3-d8711e25aa7f"
      },
      "source": [
        "class_W"
      ],
      "execution_count": 79,
      "outputs": [
        {
          "output_type": "execute_result",
          "data": {
            "text/plain": [
              "{0: 0.34290465631929046,\n",
              " 1: 3.0264187866927594,\n",
              " 2: 2.979768786127168,\n",
              " 3: 2.3939628482972135}"
            ]
          },
          "metadata": {},
          "execution_count": 79
        }
      ]
    },
    {
      "cell_type": "code",
      "metadata": {
        "id": "CxIew_jJx2v3"
      },
      "source": [
        "batch_size = 32\n",
        "m_histories = {}\n",
        "EPOCH = 50"
      ],
      "execution_count": 80,
      "outputs": []
    },
    {
      "cell_type": "code",
      "metadata": {
        "colab": {
          "base_uri": "https://localhost:8080/"
        },
        "id": "k1S_ZgJhw6Le",
        "outputId": "033eac3f-47ed-4c1d-ace2-116b4777d7d1"
      },
      "source": [
        "m_histories['drop_class_weight'] = model_WL_dropout.fit([X1_train,X2_train], Y_train, validation_data=([X1_val,X2_val], Y_val), epochs = EPOCH, batch_size=batch_size, callbacks= [early_stopping],class_weight=class_W)"
      ],
      "execution_count": 81,
      "outputs": [
        {
          "output_type": "stream",
          "name": "stdout",
          "text": [
            "Epoch 1/50\n",
            "102/102 [==============================] - 33s 298ms/step - loss: 1.3784 - f1_score: 0.2325 - accuracy: 0.3486 - val_loss: 1.3162 - val_f1_score: 0.3204 - val_accuracy: 0.5540\n",
            "Epoch 2/50\n",
            "102/102 [==============================] - 30s 298ms/step - loss: 1.2777 - f1_score: 0.3716 - accuracy: 0.4974 - val_loss: 1.3018 - val_f1_score: 0.3112 - val_accuracy: 0.3897\n",
            "Epoch 3/50\n",
            "102/102 [==============================] - 30s 297ms/step - loss: 1.0203 - f1_score: 0.4603 - accuracy: 0.5343 - val_loss: 1.1298 - val_f1_score: 0.3583 - val_accuracy: 0.5060\n",
            "Epoch 4/50\n",
            "102/102 [==============================] - 30s 293ms/step - loss: 0.7278 - f1_score: 0.5763 - accuracy: 0.6489 - val_loss: 1.2535 - val_f1_score: 0.3427 - val_accuracy: 0.4561\n",
            "Epoch 5/50\n",
            "102/102 [==============================] - 30s 294ms/step - loss: 0.4940 - f1_score: 0.6927 - accuracy: 0.7635 - val_loss: 1.3156 - val_f1_score: 0.3663 - val_accuracy: 0.4968\n",
            "Epoch 6/50\n",
            "102/102 [==============================] - 30s 294ms/step - loss: 0.3715 - f1_score: 0.7592 - accuracy: 0.8220 - val_loss: 1.4135 - val_f1_score: 0.3652 - val_accuracy: 0.4986\n",
            "Epoch 7/50\n",
            "102/102 [==============================] - 30s 290ms/step - loss: 0.2919 - f1_score: 0.8030 - accuracy: 0.8571 - val_loss: 1.3783 - val_f1_score: 0.3788 - val_accuracy: 0.5383\n",
            "Epoch 8/50\n",
            "102/102 [==============================] - 29s 288ms/step - loss: 0.2168 - f1_score: 0.8403 - accuracy: 0.8860 - val_loss: 1.4639 - val_f1_score: 0.3574 - val_accuracy: 0.5263\n",
            "Epoch 9/50\n",
            "102/102 [==============================] - 30s 290ms/step - loss: 0.1869 - f1_score: 0.8659 - accuracy: 0.9067 - val_loss: 1.4051 - val_f1_score: 0.3752 - val_accuracy: 0.5836\n",
            "Epoch 10/50\n",
            "102/102 [==============================] - 29s 286ms/step - loss: 0.1538 - f1_score: 0.8824 - accuracy: 0.9187 - val_loss: 1.4789 - val_f1_score: 0.3696 - val_accuracy: 0.5863\n",
            "Epoch 11/50\n",
            "102/102 [==============================] - 30s 292ms/step - loss: 0.1364 - f1_score: 0.9008 - accuracy: 0.9335 - val_loss: 1.5471 - val_f1_score: 0.3606 - val_accuracy: 0.5882\n",
            "Epoch 12/50\n",
            "102/102 [==============================] - 29s 289ms/step - loss: 0.1144 - f1_score: 0.9161 - accuracy: 0.9439 - val_loss: 1.7582 - val_f1_score: 0.3583 - val_accuracy: 0.5355\n",
            "Epoch 13/50\n",
            "102/102 [==============================] - 30s 290ms/step - loss: 0.1144 - f1_score: 0.9096 - accuracy: 0.9387 - val_loss: 1.7275 - val_f1_score: 0.3579 - val_accuracy: 0.5577\n",
            "Epoch 14/50\n",
            "102/102 [==============================] - 30s 292ms/step - loss: 0.1035 - f1_score: 0.9214 - accuracy: 0.9483 - val_loss: 1.8109 - val_f1_score: 0.3750 - val_accuracy: 0.5753\n",
            "Epoch 15/50\n",
            "102/102 [==============================] - 29s 287ms/step - loss: 0.0938 - f1_score: 0.9278 - accuracy: 0.9510 - val_loss: 1.8122 - val_f1_score: 0.3616 - val_accuracy: 0.5217\n",
            "Epoch 16/50\n",
            "102/102 [==============================] - 30s 292ms/step - loss: 0.0879 - f1_score: 0.9225 - accuracy: 0.9489 - val_loss: 1.7412 - val_f1_score: 0.3654 - val_accuracy: 0.5826\n",
            "Epoch 17/50\n",
            "102/102 [==============================] - 29s 288ms/step - loss: 0.0748 - f1_score: 0.9383 - accuracy: 0.9578 - val_loss: 1.7867 - val_f1_score: 0.3778 - val_accuracy: 0.5919\n",
            "Restoring model weights from the end of the best epoch.\n",
            "Epoch 00017: early stopping\n"
          ]
        }
      ]
    },
    {
      "cell_type": "code",
      "metadata": {
        "colab": {
          "base_uri": "https://localhost:8080/",
          "height": 501
        },
        "id": "V92NGUVH4pQU",
        "outputId": "3b4739b6-2b58-4189-d13f-f13448fd7251"
      },
      "source": [
        "plotter(m_histories, ylim=[0.0, 2.0], metric = 'loss')"
      ],
      "execution_count": 82,
      "outputs": [
        {
          "output_type": "display_data",
          "data": {
            "image/png": "[encoded data removed]",
            "text/plain": [
              "<Figure size 864x576 with 1 Axes>"
            ]
          },
          "metadata": {
            "needs_background": "light"
          }
        }
      ]
    },
    {
      "cell_type": "code",
      "metadata": {
        "colab": {
          "base_uri": "https://localhost:8080/",
          "height": 497
        },
        "id": "4MfWHgiB4pdD",
        "outputId": "da697f5d-8cd5-4747-e8c3-4df0e8c9ce9c"
      },
      "source": [
        "plotter(m_histories, ylim=[0.0, 1.1], metric = 'accuracy')"
      ],
      "execution_count": 83,
      "outputs": [
        {
          "output_type": "display_data",
          "data": {
            "image/png": "[encoded data removed]",
            "text/plain": [
              "<Figure size 864x576 with 1 Axes>"
            ]
          },
          "metadata": {
            "needs_background": "light"
          }
        }
      ]
    },
    {
      "cell_type": "code",
      "metadata": {
        "colab": {
          "base_uri": "https://localhost:8080/"
        },
        "id": "EfmfhfVc4pgs",
        "outputId": "8636234b-0f10-4b7c-84b0-4ad1b987d45f"
      },
      "source": [
        "Y_predict_drop_CW = model_WL_dropout.predict([X1_test,X2_test])\n",
        "Y_predict_drop_CW = np.argmax(Y_predict_drop_CW, axis = 1)\n",
        "print(classification_report(Y_test,Y_predict_drop_CW))"
      ],
      "execution_count": 86,
      "outputs": [
        {
          "output_type": "stream",
          "name": "stdout",
          "text": [
            "              precision    recall  f1-score   support\n",
            "\n",
            "           0       0.81      0.58      0.67      1353\n",
            "           1       0.21      0.39      0.27       153\n",
            "           2       0.17      0.35      0.23       156\n",
            "           3       0.22      0.31      0.26       194\n",
            "\n",
            "    accuracy                           0.52      1856\n",
            "   macro avg       0.35      0.41      0.36      1856\n",
            "weighted avg       0.64      0.52      0.56      1856\n",
            "\n"
          ]
        }
      ]
    },
    {
      "cell_type": "code",
      "metadata": {
        "colab": {
          "base_uri": "https://localhost:8080/",
          "height": 404
        },
        "id": "umMkTBrG5fE_",
        "outputId": "9213e747-567d-46de-ac90-b46b6949d55e"
      },
      "source": [
        "plot_Confusion_Matric(Y_test,Y_predict_drop_CW)"
      ],
      "execution_count": 90,
      "outputs": [
        {
          "output_type": "display_data",
          "data": {
            "image/png": "[encoded data removed]",
            "text/plain": [
              "<Figure size 720x432 with 2 Axes>"
            ]
          },
          "metadata": {
            "needs_background": "light"
          }
        }
      ]
    },
    {
      "cell_type": "markdown",
      "metadata": {
        "id": "PnAhn8Ey54sq"
      },
      "source": [
        "# Basline Model with Transfer Learning\n",
        "\n",
        "as my Basline model didn't perform well with no transfer learning, i am going to implement model with GloVe word embeddings transfer learning"
      ]
    },
    {
      "cell_type": "code",
      "metadata": {
        "id": "U1LJh8PK5fHM"
      },
      "source": [
        "!cp /content/drive/MyDrive/Assign2/glove.twitter.27B.100d.txt ."
      ],
      "execution_count": 137,
      "outputs": []
    },
    {
      "cell_type": "code",
      "metadata": {
        "id": "EDy9do8p5fLM"
      },
      "source": [
        "file = open('glove.twitter.27B.100d.txt', encoding='utf-8')\n",
        "\n",
        "glove_vectors = dict()\n",
        "for line in file:\n",
        "  values = line.split()\n",
        "  word = values[0]\n",
        "  features = np.asarray(values[1:])\n",
        "  glove_vectors[word] = features\n",
        "\n",
        "file.close()"
      ],
      "execution_count": 139,
      "outputs": []
    },
    {
      "cell_type": "markdown",
      "metadata": {
        "id": "E4AC5OybBjeN"
      },
      "source": [
        "Transfere the GloVe embedding vectors to your embedding matrix. This will be done by mapping our task vocabulary to the GloVe vocabulary."
      ]
    },
    {
      "cell_type": "code",
      "metadata": {
        "id": "S6QBEPds5fN2"
      },
      "source": [
        "embedding_dim = 100\n",
        "E_T = np.zeros((len(word_index) + 1, embedding_dim))\n",
        "for word, i in word_index.items():\n",
        "    embedding_vector = glove_vectors.get(word)\n",
        "    if embedding_vector is not None:\n",
        "        E_T[i] = embedding_vector"
      ],
      "execution_count": 140,
      "outputs": []
    },
    {
      "cell_type": "code",
      "metadata": {
        "colab": {
          "base_uri": "https://localhost:8080/"
        },
        "id": "3PIRXt3yCCNo",
        "outputId": "3635bd71-54a1-4c8e-ec3a-ba7297d7d82b"
      },
      "source": [
        "#model with transfer learning\n",
        "\n",
        "reply_text_inp = Input(shape=(X1_train.shape[1]), name='reply_text_inp')\n",
        "new_source_inp = Input(shape=(X2_train.shape[1]), name='new_source_inp')\n",
        "\n",
        "embedding_layer = Embedding(len(word_index) + 1, embedding_dim, weights=[E_T],\n",
        "                            input_length = X1.shape[1] , trainable=False)\n",
        "\n",
        "x1 = embedding_layer(reply_text_inp)\n",
        "x2 = embedding_layer(new_source_inp)\n",
        "\n",
        "x = tf.keras.layers.concatenate([x1, x2])\n",
        "\n",
        "# x = SpatialDropout1D(0.2)(x) #add dropout layer of 0.2\n",
        "x = LSTM(32, dropout=0.5, recurrent_dropout=0.2, return_sequences=False)(x)\n",
        "\n",
        "output = Dense(4, activation ='softmax', name ='output')(x)\n",
        "\n",
        "model_TL_dropout = Model(inputs=[reply_text_inp, new_source_inp], outputs = [output])\n",
        "\n",
        "model_TL_dropout.compile(loss=tf.keras.losses.CategoricalCrossentropy(from_logits = False),\n",
        "              optimizer=tf.keras.optimizers.Adam(),\n",
        "              metrics = define_metric())\n",
        "\n",
        "print(model_TL_dropout.summary())"
      ],
      "execution_count": 132,
      "outputs": [
        {
          "output_type": "stream",
          "name": "stdout",
          "text": [
            "WARNING:tensorflow:Layer lstm_9 will not use cuDNN kernels since it doesn't meet the criteria. It will use a generic GPU kernel as fallback when running on GPU.\n",
            "Model: \"model_7\"\n",
            "__________________________________________________________________________________________________\n",
            "Layer (type)                    Output Shape         Param #     Connected to                     \n",
            "==================================================================================================\n",
            "reply_text_inp (InputLayer)     [(None, 50)]         0                                            \n",
            "__________________________________________________________________________________________________\n",
            "new_source_inp (InputLayer)     [(None, 50)]         0                                            \n",
            "__________________________________________________________________________________________________\n",
            "embedding_7 (Embedding)         (None, 50, 50)       405500      reply_text_inp[0][0]             \n",
            "                                                                 new_source_inp[0][0]             \n",
            "__________________________________________________________________________________________________\n",
            "concatenate_7 (Concatenate)     (None, 50, 100)      0           embedding_7[0][0]                \n",
            "                                                                 embedding_7[1][0]                \n",
            "__________________________________________________________________________________________________\n",
            "lstm_9 (LSTM)                   (None, 32)           17024       concatenate_7[0][0]              \n",
            "__________________________________________________________________________________________________\n",
            "output (Dense)                  (None, 4)            132         lstm_9[0][0]                     \n",
            "==================================================================================================\n",
            "Total params: 422,656\n",
            "Trainable params: 17,156\n",
            "Non-trainable params: 405,500\n",
            "__________________________________________________________________________________________________\n",
            "None\n"
          ]
        }
      ]
    },
    {
      "cell_type": "code",
      "metadata": {
        "colab": {
          "base_uri": "https://localhost:8080/"
        },
        "id": "ORvwumYqCCS6",
        "outputId": "b0fb1615-a296-487a-af1c-7344e5882920"
      },
      "source": [
        "batch_size = 64\n",
        "EPOCH = 50\n",
        "m_histories['TL_drop_weight'] =  model_TL_dropout.fit([X1_train,X2_train], Y_train, validation_data=([X1_val,X2_val], Y_val), epochs = EPOCH, batch_size=batch_size, callbacks= [early_stopping],class_weight=class_W)"
      ],
      "execution_count": 133,
      "outputs": [
        {
          "output_type": "stream",
          "name": "stdout",
          "text": [
            "Epoch 1/50\n",
            "51/51 [==============================] - 19s 299ms/step - loss: 1.3981 - f1_score: 0.2179 - accuracy: 0.3104 - val_loss: 1.4099 - val_f1_score: 0.1961 - val_accuracy: 0.2308\n",
            "Epoch 2/50\n",
            "51/51 [==============================] - 14s 282ms/step - loss: 1.3754 - f1_score: 0.2420 - accuracy: 0.3348 - val_loss: 1.4168 - val_f1_score: 0.2014 - val_accuracy: 0.2198\n",
            "Epoch 3/50\n",
            "51/51 [==============================] - 15s 293ms/step - loss: 1.3675 - f1_score: 0.2252 - accuracy: 0.2624 - val_loss: 1.3736 - val_f1_score: 0.2332 - val_accuracy: 0.2909\n",
            "Epoch 4/50\n",
            "51/51 [==============================] - 15s 289ms/step - loss: 1.3482 - f1_score: 0.2549 - accuracy: 0.3280 - val_loss: 1.3740 - val_f1_score: 0.2268 - val_accuracy: 0.2613\n",
            "Epoch 5/50\n",
            "51/51 [==============================] - 14s 281ms/step - loss: 1.3403 - f1_score: 0.2688 - accuracy: 0.3342 - val_loss: 1.3769 - val_f1_score: 0.2319 - val_accuracy: 0.2798\n",
            "Epoch 6/50\n",
            "51/51 [==============================] - 14s 279ms/step - loss: 1.3279 - f1_score: 0.2671 - accuracy: 0.3228 - val_loss: 1.3528 - val_f1_score: 0.2440 - val_accuracy: 0.2982\n",
            "Epoch 7/50\n",
            "51/51 [==============================] - 15s 287ms/step - loss: 1.3109 - f1_score: 0.2748 - accuracy: 0.3255 - val_loss: 1.3574 - val_f1_score: 0.2335 - val_accuracy: 0.2872\n",
            "Epoch 8/50\n",
            "51/51 [==============================] - 15s 286ms/step - loss: 1.2960 - f1_score: 0.2830 - accuracy: 0.3308 - val_loss: 1.3746 - val_f1_score: 0.2273 - val_accuracy: 0.2733\n",
            "Epoch 9/50\n",
            "51/51 [==============================] - 15s 290ms/step - loss: 1.2849 - f1_score: 0.2881 - accuracy: 0.3403 - val_loss: 1.4542 - val_f1_score: 0.1938 - val_accuracy: 0.2059\n",
            "Epoch 10/50\n",
            "51/51 [==============================] - 14s 284ms/step - loss: 1.2672 - f1_score: 0.2881 - accuracy: 0.3397 - val_loss: 1.3306 - val_f1_score: 0.2650 - val_accuracy: 0.3269\n",
            "Epoch 11/50\n",
            "51/51 [==============================] - 14s 284ms/step - loss: 1.2543 - f1_score: 0.3087 - accuracy: 0.3640 - val_loss: 1.3851 - val_f1_score: 0.2355 - val_accuracy: 0.2724\n",
            "Epoch 12/50\n",
            "51/51 [==============================] - 14s 279ms/step - loss: 1.2416 - f1_score: 0.3076 - accuracy: 0.3637 - val_loss: 1.3707 - val_f1_score: 0.2443 - val_accuracy: 0.2770\n",
            "Epoch 13/50\n",
            "51/51 [==============================] - 15s 291ms/step - loss: 1.2126 - f1_score: 0.3083 - accuracy: 0.3459 - val_loss: 1.3799 - val_f1_score: 0.2449 - val_accuracy: 0.2816\n",
            "Epoch 14/50\n",
            "51/51 [==============================] - 15s 285ms/step - loss: 1.2170 - f1_score: 0.3272 - accuracy: 0.3887 - val_loss: 1.3905 - val_f1_score: 0.2400 - val_accuracy: 0.2669\n",
            "Epoch 15/50\n",
            "51/51 [==============================] - 14s 284ms/step - loss: 1.2025 - f1_score: 0.3188 - accuracy: 0.3563 - val_loss: 1.3654 - val_f1_score: 0.2436 - val_accuracy: 0.2862\n",
            "Epoch 16/50\n",
            "51/51 [==============================] - 14s 282ms/step - loss: 1.1936 - f1_score: 0.3260 - accuracy: 0.3733 - val_loss: 1.3226 - val_f1_score: 0.2667 - val_accuracy: 0.3232\n",
            "Epoch 17/50\n",
            "51/51 [==============================] - 14s 278ms/step - loss: 1.1721 - f1_score: 0.3375 - accuracy: 0.3881 - val_loss: 1.3397 - val_f1_score: 0.2474 - val_accuracy: 0.2927\n",
            "Epoch 18/50\n",
            "51/51 [==============================] - 15s 290ms/step - loss: 1.1646 - f1_score: 0.3393 - accuracy: 0.3865 - val_loss: 1.3766 - val_f1_score: 0.2427 - val_accuracy: 0.2724\n",
            "Epoch 19/50\n",
            "51/51 [==============================] - 15s 287ms/step - loss: 1.1624 - f1_score: 0.3430 - accuracy: 0.3896 - val_loss: 1.3647 - val_f1_score: 0.2449 - val_accuracy: 0.2890\n",
            "Epoch 20/50\n",
            "51/51 [==============================] - 15s 293ms/step - loss: 1.1429 - f1_score: 0.3557 - accuracy: 0.4090 - val_loss: 1.4013 - val_f1_score: 0.2338 - val_accuracy: 0.2641\n",
            "Epoch 21/50\n",
            "51/51 [==============================] - 15s 286ms/step - loss: 1.1382 - f1_score: 0.3460 - accuracy: 0.3804 - val_loss: 1.3299 - val_f1_score: 0.2607 - val_accuracy: 0.3102\n",
            "Epoch 22/50\n",
            "51/51 [==============================] - 14s 284ms/step - loss: 1.1137 - f1_score: 0.3681 - accuracy: 0.4145 - val_loss: 1.4454 - val_f1_score: 0.2288 - val_accuracy: 0.2567\n",
            "Epoch 23/50\n",
            "51/51 [==============================] - 14s 280ms/step - loss: 1.1071 - f1_score: 0.3547 - accuracy: 0.4004 - val_loss: 1.3498 - val_f1_score: 0.2618 - val_accuracy: 0.3112\n",
            "Epoch 24/50\n",
            "51/51 [==============================] - 15s 292ms/step - loss: 1.0982 - f1_score: 0.3633 - accuracy: 0.4081 - val_loss: 1.3634 - val_f1_score: 0.2601 - val_accuracy: 0.3010\n",
            "Epoch 25/50\n",
            "51/51 [==============================] - 15s 290ms/step - loss: 1.0877 - f1_score: 0.3696 - accuracy: 0.4115 - val_loss: 1.2938 - val_f1_score: 0.2840 - val_accuracy: 0.3610\n",
            "Epoch 26/50\n",
            "51/51 [==============================] - 15s 285ms/step - loss: 1.0763 - f1_score: 0.3700 - accuracy: 0.4173 - val_loss: 1.3379 - val_f1_score: 0.2620 - val_accuracy: 0.3186\n",
            "Epoch 27/50\n",
            "51/51 [==============================] - 15s 289ms/step - loss: 1.0583 - f1_score: 0.3904 - accuracy: 0.4410 - val_loss: 1.3609 - val_f1_score: 0.2651 - val_accuracy: 0.3112\n",
            "Epoch 28/50\n",
            "51/51 [==============================] - 15s 288ms/step - loss: 1.0583 - f1_score: 0.3751 - accuracy: 0.4152 - val_loss: 1.3666 - val_f1_score: 0.2567 - val_accuracy: 0.3029\n",
            "Epoch 29/50\n",
            "51/51 [==============================] - 15s 287ms/step - loss: 1.0596 - f1_score: 0.3839 - accuracy: 0.4318 - val_loss: 1.3659 - val_f1_score: 0.2607 - val_accuracy: 0.3093\n",
            "Epoch 30/50\n",
            "51/51 [==============================] - 15s 289ms/step - loss: 1.0262 - f1_score: 0.3905 - accuracy: 0.4342 - val_loss: 1.3907 - val_f1_score: 0.2540 - val_accuracy: 0.3038\n",
            "Epoch 31/50\n",
            "51/51 [==============================] - 15s 285ms/step - loss: 1.0210 - f1_score: 0.3945 - accuracy: 0.4339 - val_loss: 1.2776 - val_f1_score: 0.2826 - val_accuracy: 0.3712\n",
            "Epoch 32/50\n",
            "51/51 [==============================] - 15s 291ms/step - loss: 1.0049 - f1_score: 0.4033 - accuracy: 0.4503 - val_loss: 1.3337 - val_f1_score: 0.2726 - val_accuracy: 0.3416\n",
            "Epoch 33/50\n",
            "51/51 [==============================] - 15s 291ms/step - loss: 1.0237 - f1_score: 0.4084 - accuracy: 0.4527 - val_loss: 1.4018 - val_f1_score: 0.2658 - val_accuracy: 0.3047\n",
            "Epoch 34/50\n",
            "51/51 [==============================] - 14s 280ms/step - loss: 0.9836 - f1_score: 0.4163 - accuracy: 0.4598 - val_loss: 1.3812 - val_f1_score: 0.2692 - val_accuracy: 0.3186\n",
            "Epoch 35/50\n",
            "51/51 [==============================] - 14s 281ms/step - loss: 1.0052 - f1_score: 0.4009 - accuracy: 0.4413 - val_loss: 1.3180 - val_f1_score: 0.2697 - val_accuracy: 0.3444\n",
            "Restoring model weights from the end of the best epoch.\n",
            "Epoch 00035: early stopping\n"
          ]
        }
      ]
    },
    {
      "cell_type": "code",
      "metadata": {
        "colab": {
          "base_uri": "https://localhost:8080/",
          "height": 501
        },
        "id": "Ai0FouN8CCbe",
        "outputId": "8765025d-fb11-48a5-8923-9eb77a42fd17"
      },
      "source": [
        "plotter(m_histories, ylim=[0.0, 2.0], metric = 'loss')"
      ],
      "execution_count": 134,
      "outputs": [
        {
          "output_type": "display_data",
          "data": {
            "image/png": "[encoded data removed]",
            "text/plain": [
              "<Figure size 864x576 with 1 Axes>"
            ]
          },
          "metadata": {
            "needs_background": "light"
          }
        }
      ]
    },
    {
      "cell_type": "code",
      "metadata": {
        "colab": {
          "base_uri": "https://localhost:8080/",
          "height": 497
        },
        "id": "L78E3j54Gmn8",
        "outputId": "b6881794-2d10-4823-d7e6-a07b9c9060ed"
      },
      "source": [
        "plotter(m_histories, ylim=[0.0, 1.1], metric = 'accuracy')"
      ],
      "execution_count": 135,
      "outputs": [
        {
          "output_type": "display_data",
          "data": {
            "image/png": "[encoded data removed]",
            "text/plain": [
              "<Figure size 864x576 with 1 Axes>"
            ]
          },
          "metadata": {
            "needs_background": "light"
          }
        }
      ]
    },
    {
      "cell_type": "code",
      "metadata": {
        "colab": {
          "base_uri": "https://localhost:8080/"
        },
        "id": "Qt1Owap1Gmxg",
        "outputId": "3836ea60-be88-45d3-a60a-63884ece2ac6"
      },
      "source": [
        "Y_pred_TL_drop_weight = model_TL_dropout.predict([X1_test,X2_test])\n",
        "Y_pred_TL_drop_weight = np.argmax(Y_pred_TL_drop_weight, axis = 1)\n",
        "print(classification_report(Y_test,Y_pred_TL_drop_weight))"
      ],
      "execution_count": 136,
      "outputs": [
        {
          "output_type": "stream",
          "name": "stdout",
          "text": [
            "              precision    recall  f1-score   support\n",
            "\n",
            "           0       0.77      0.32      0.46      1353\n",
            "           1       0.19      0.28      0.23       153\n",
            "           2       0.13      0.37      0.20       156\n",
            "           3       0.14      0.44      0.21       194\n",
            "\n",
            "    accuracy                           0.34      1856\n",
            "   macro avg       0.31      0.35      0.27      1856\n",
            "weighted avg       0.60      0.34      0.39      1856\n",
            "\n"
          ]
        }
      ]
    },
    {
      "cell_type": "markdown",
      "metadata": {
        "id": "Sk-5gpSzL2L4"
      },
      "source": [
        "It can be seen that baseline model LSTM with transfer learning and class weights has worked quite better than with no transfer learning."
      ]
    },
    {
      "cell_type": "markdown",
      "metadata": {
        "id": "2dISi1ZxMLdD"
      },
      "source": [
        "As my model still hasn't performed well and haven't achieved good accuracy and F1 score, I am going to use bidirectional LSTM"
      ]
    },
    {
      "cell_type": "code",
      "metadata": {
        "colab": {
          "base_uri": "https://localhost:8080/"
        },
        "id": "GyIiGwrzMGWj",
        "outputId": "8f3c379b-0f66-4e30-dc9c-873b684a020d"
      },
      "source": [
        "#Bidirectional LSTM model with transfer learning\n",
        "\n",
        "reply_text_inp = Input(shape=(X1_train.shape[1]), name='reply_text_inp')\n",
        "new_source_inp = Input(shape=(X2_train.shape[1]), name='new_source_inp')\n",
        "\n",
        "embedding_layer = Embedding(len(word_index) + 1, embedding_dim, weights=[E_T],\n",
        "                            input_length = X1.shape[1] , trainable = True)\n",
        "\n",
        "x1 = embedding_layer(reply_text_inp)\n",
        "x2 = embedding_layer(new_source_inp)\n",
        "\n",
        "x = tf.keras.layers.concatenate([x1, x2])\n",
        "\n",
        "x = Bidirectional(LSTM(64, dropout=0.5, recurrent_dropout=0.2, return_sequences=True))(x)\n",
        "x = LSTM(32, dropout=0.5, recurrent_dropout=0.2, return_sequences=False)(x)\n",
        "# x = Bidirectional(LSTM(64, dropout=0.5, recurrent_dropout=0.2, return_sequences=False))(x)\n",
        "\n",
        "output = Dense(4, activation ='softmax', name ='output')(x)\n",
        "\n",
        "model_Bi_LSTM = Model(inputs=[reply_text_inp, new_source_inp], outputs = [output])\n",
        "\n",
        "model_Bi_LSTM.compile(loss=tf.keras.losses.CategoricalCrossentropy(from_logits = False),\n",
        "              optimizer=tf.keras.optimizers.Adam(),\n",
        "              metrics = define_metric())\n",
        "\n",
        "print(model_Bi_LSTM.summary())"
      ],
      "execution_count": 144,
      "outputs": [
        {
          "output_type": "stream",
          "name": "stdout",
          "text": [
            "WARNING:tensorflow:Layer lstm_14 will not use cuDNN kernels since it doesn't meet the criteria. It will use a generic GPU kernel as fallback when running on GPU.\n",
            "WARNING:tensorflow:Layer lstm_14 will not use cuDNN kernels since it doesn't meet the criteria. It will use a generic GPU kernel as fallback when running on GPU.\n",
            "WARNING:tensorflow:Layer lstm_14 will not use cuDNN kernels since it doesn't meet the criteria. It will use a generic GPU kernel as fallback when running on GPU.\n",
            "WARNING:tensorflow:Layer lstm_15 will not use cuDNN kernels since it doesn't meet the criteria. It will use a generic GPU kernel as fallback when running on GPU.\n",
            "Model: \"model_10\"\n",
            "__________________________________________________________________________________________________\n",
            "Layer (type)                    Output Shape         Param #     Connected to                     \n",
            "==================================================================================================\n",
            "reply_text_inp (InputLayer)     [(None, 50)]         0                                            \n",
            "__________________________________________________________________________________________________\n",
            "new_source_inp (InputLayer)     [(None, 50)]         0                                            \n",
            "__________________________________________________________________________________________________\n",
            "embedding_10 (Embedding)        (None, 50, 100)      811000      reply_text_inp[0][0]             \n",
            "                                                                 new_source_inp[0][0]             \n",
            "__________________________________________________________________________________________________\n",
            "concatenate_10 (Concatenate)    (None, 50, 200)      0           embedding_10[0][0]               \n",
            "                                                                 embedding_10[1][0]               \n",
            "__________________________________________________________________________________________________\n",
            "bidirectional_6 (Bidirectional) (None, 50, 128)      135680      concatenate_10[0][0]             \n",
            "__________________________________________________________________________________________________\n",
            "lstm_15 (LSTM)                  (None, 32)           20608       bidirectional_6[0][0]            \n",
            "__________________________________________________________________________________________________\n",
            "output (Dense)                  (None, 4)            132         lstm_15[0][0]                    \n",
            "==================================================================================================\n",
            "Total params: 967,420\n",
            "Trainable params: 967,420\n",
            "Non-trainable params: 0\n",
            "__________________________________________________________________________________________________\n",
            "None\n"
          ]
        }
      ]
    },
    {
      "cell_type": "code",
      "metadata": {
        "colab": {
          "base_uri": "https://localhost:8080/"
        },
        "id": "sBvE_aFrMGY5",
        "outputId": "3d328691-9775-4a6d-f860-71a79a3e4c78"
      },
      "source": [
        "batch_size = 64\n",
        "EPOCH = 50\n",
        "m_histories['Bi-LSTM'] =  model_Bi_LSTM.fit([X1_train,X2_train], Y_train, validation_data=([X1_val,X2_val], Y_val), epochs = EPOCH, batch_size=batch_size, callbacks= [early_stopping],class_weight=class_W)"
      ],
      "execution_count": 145,
      "outputs": [
        {
          "output_type": "stream",
          "name": "stdout",
          "text": [
            "Epoch 1/50\n",
            "51/51 [==============================] - 55s 915ms/step - loss: 1.3866 - f1_score: 0.2001 - accuracy: 0.2445 - val_loss: 1.3635 - val_f1_score: 0.2538 - val_accuracy: 0.3029\n",
            "Epoch 2/50\n",
            "51/51 [==============================] - 45s 887ms/step - loss: 1.3340 - f1_score: 0.2482 - accuracy: 0.2873 - val_loss: 1.3636 - val_f1_score: 0.2013 - val_accuracy: 0.2096\n",
            "Epoch 3/50\n",
            "51/51 [==============================] - 45s 890ms/step - loss: 1.2777 - f1_score: 0.2874 - accuracy: 0.3298 - val_loss: 1.3763 - val_f1_score: 0.2297 - val_accuracy: 0.2484\n",
            "Epoch 4/50\n",
            "51/51 [==============================] - 45s 885ms/step - loss: 1.1834 - f1_score: 0.3233 - accuracy: 0.3502 - val_loss: 1.3648 - val_f1_score: 0.2602 - val_accuracy: 0.3195\n",
            "Epoch 5/50\n",
            "51/51 [==============================] - 45s 891ms/step - loss: 1.1035 - f1_score: 0.3556 - accuracy: 0.3933 - val_loss: 1.3417 - val_f1_score: 0.2815 - val_accuracy: 0.3592\n",
            "Epoch 6/50\n",
            "51/51 [==============================] - 45s 892ms/step - loss: 1.0158 - f1_score: 0.4102 - accuracy: 0.4577 - val_loss: 1.3672 - val_f1_score: 0.2724 - val_accuracy: 0.3389\n",
            "Epoch 7/50\n",
            "51/51 [==============================] - 45s 891ms/step - loss: 0.8992 - f1_score: 0.4654 - accuracy: 0.5211 - val_loss: 1.5337 - val_f1_score: 0.2687 - val_accuracy: 0.3158\n",
            "Epoch 8/50\n",
            "51/51 [==============================] - 46s 894ms/step - loss: 0.8361 - f1_score: 0.4824 - accuracy: 0.5350 - val_loss: 1.6575 - val_f1_score: 0.2491 - val_accuracy: 0.2816\n",
            "Epoch 9/50\n",
            "51/51 [==============================] - 45s 878ms/step - loss: 0.7480 - f1_score: 0.5200 - accuracy: 0.5716 - val_loss: 1.4315 - val_f1_score: 0.3197 - val_accuracy: 0.4192\n",
            "Epoch 10/50\n",
            "51/51 [==============================] - 45s 886ms/step - loss: 0.6634 - f1_score: 0.5529 - accuracy: 0.6116 - val_loss: 1.6293 - val_f1_score: 0.2862 - val_accuracy: 0.3610\n",
            "Epoch 11/50\n",
            "51/51 [==============================] - 45s 886ms/step - loss: 0.6329 - f1_score: 0.5699 - accuracy: 0.6264 - val_loss: 1.4466 - val_f1_score: 0.3116 - val_accuracy: 0.4155\n",
            "Epoch 12/50\n",
            "51/51 [==============================] - 45s 885ms/step - loss: 0.5480 - f1_score: 0.6127 - accuracy: 0.6705 - val_loss: 1.4306 - val_f1_score: 0.3430 - val_accuracy: 0.4866\n",
            "Epoch 13/50\n",
            "51/51 [==============================] - 45s 875ms/step - loss: 0.5048 - f1_score: 0.6388 - accuracy: 0.7010 - val_loss: 1.6584 - val_f1_score: 0.3021 - val_accuracy: 0.3970\n",
            "Epoch 14/50\n",
            "51/51 [==============================] - 45s 884ms/step - loss: 0.4658 - f1_score: 0.6609 - accuracy: 0.7247 - val_loss: 1.5118 - val_f1_score: 0.3207 - val_accuracy: 0.4608\n",
            "Epoch 15/50\n",
            "51/51 [==============================] - 45s 887ms/step - loss: 0.3924 - f1_score: 0.7023 - accuracy: 0.7610 - val_loss: 1.5944 - val_f1_score: 0.3262 - val_accuracy: 0.4663\n",
            "Epoch 16/50\n",
            "51/51 [==============================] - 45s 884ms/step - loss: 0.3670 - f1_score: 0.7164 - accuracy: 0.7758 - val_loss: 1.6480 - val_f1_score: 0.3445 - val_accuracy: 0.4848\n",
            "Epoch 17/50\n",
            "51/51 [==============================] - 45s 875ms/step - loss: 0.3313 - f1_score: 0.7381 - accuracy: 0.7980 - val_loss: 1.5827 - val_f1_score: 0.3529 - val_accuracy: 0.5309\n",
            "Epoch 18/50\n",
            "51/51 [==============================] - 45s 883ms/step - loss: 0.3185 - f1_score: 0.7416 - accuracy: 0.8020 - val_loss: 1.6816 - val_f1_score: 0.3455 - val_accuracy: 0.4968\n",
            "Epoch 19/50\n",
            "51/51 [==============================] - 44s 868ms/step - loss: 0.2919 - f1_score: 0.7724 - accuracy: 0.8281 - val_loss: 1.7404 - val_f1_score: 0.3447 - val_accuracy: 0.4801\n",
            "Epoch 20/50\n",
            "51/51 [==============================] - 45s 875ms/step - loss: 0.2651 - f1_score: 0.7809 - accuracy: 0.8374 - val_loss: 1.6693 - val_f1_score: 0.3463 - val_accuracy: 0.5162\n",
            "Epoch 21/50\n",
            "51/51 [==============================] - 44s 868ms/step - loss: 0.2443 - f1_score: 0.7843 - accuracy: 0.8386 - val_loss: 1.6717 - val_f1_score: 0.3473 - val_accuracy: 0.5568\n",
            "Epoch 22/50\n",
            "51/51 [==============================] - 44s 861ms/step - loss: 0.2386 - f1_score: 0.8024 - accuracy: 0.8534 - val_loss: 1.9641 - val_f1_score: 0.3240 - val_accuracy: 0.4395\n",
            "Epoch 23/50\n",
            "51/51 [==============================] - 44s 858ms/step - loss: 0.2395 - f1_score: 0.7962 - accuracy: 0.8500 - val_loss: 1.8131 - val_f1_score: 0.3450 - val_accuracy: 0.5171\n",
            "Epoch 24/50\n",
            "51/51 [==============================] - 44s 861ms/step - loss: 0.2133 - f1_score: 0.8171 - accuracy: 0.8648 - val_loss: 1.7464 - val_f1_score: 0.3632 - val_accuracy: 0.5540\n",
            "Epoch 25/50\n",
            "51/51 [==============================] - 44s 871ms/step - loss: 0.1904 - f1_score: 0.8349 - accuracy: 0.8802 - val_loss: 1.7515 - val_f1_score: 0.3506 - val_accuracy: 0.5476\n",
            "Epoch 26/50\n",
            "51/51 [==============================] - 45s 876ms/step - loss: 0.1857 - f1_score: 0.8474 - accuracy: 0.8913 - val_loss: 1.7424 - val_f1_score: 0.3542 - val_accuracy: 0.5826\n",
            "Epoch 27/50\n",
            "51/51 [==============================] - 45s 873ms/step - loss: 0.1728 - f1_score: 0.8617 - accuracy: 0.9021 - val_loss: 1.8365 - val_f1_score: 0.3413 - val_accuracy: 0.5263\n",
            "Epoch 28/50\n",
            "51/51 [==============================] - 45s 877ms/step - loss: 0.1647 - f1_score: 0.8591 - accuracy: 0.9005 - val_loss: 1.8731 - val_f1_score: 0.3539 - val_accuracy: 0.5549\n",
            "Epoch 29/50\n",
            "51/51 [==============================] - 44s 865ms/step - loss: 0.1674 - f1_score: 0.8536 - accuracy: 0.8959 - val_loss: 1.8481 - val_f1_score: 0.3446 - val_accuracy: 0.5577\n",
            "Epoch 30/50\n",
            "51/51 [==============================] - 44s 856ms/step - loss: 0.1615 - f1_score: 0.8608 - accuracy: 0.9021 - val_loss: 1.8676 - val_f1_score: 0.3484 - val_accuracy: 0.5956\n",
            "Epoch 31/50\n",
            "51/51 [==============================] - 44s 856ms/step - loss: 0.1474 - f1_score: 0.8746 - accuracy: 0.9122 - val_loss: 1.8433 - val_f1_score: 0.3434 - val_accuracy: 0.5577\n",
            "Epoch 32/50\n",
            "51/51 [==============================] - 44s 853ms/step - loss: 0.1357 - f1_score: 0.8782 - accuracy: 0.9150 - val_loss: 1.8550 - val_f1_score: 0.3472 - val_accuracy: 0.5993\n",
            "Epoch 33/50\n",
            "51/51 [==============================] - 44s 866ms/step - loss: 0.1408 - f1_score: 0.8770 - accuracy: 0.9138 - val_loss: 1.8599 - val_f1_score: 0.3554 - val_accuracy: 0.5586\n",
            "Epoch 34/50\n",
            "51/51 [==============================] - 44s 863ms/step - loss: 0.1000 - f1_score: 0.9041 - accuracy: 0.9344 - val_loss: 1.9939 - val_f1_score: 0.3438 - val_accuracy: 0.5623\n",
            "Restoring model weights from the end of the best epoch.\n",
            "Epoch 00034: early stopping\n"
          ]
        }
      ]
    },
    {
      "cell_type": "code",
      "metadata": {
        "colab": {
          "base_uri": "https://localhost:8080/",
          "height": 501
        },
        "id": "5Oqpu6CJMGbC",
        "outputId": "f9ebf224-75f6-46c2-adec-e1d1aa8e57e5"
      },
      "source": [
        "plotter(m_histories, ylim=[0.0, 2.0], metric = 'loss')"
      ],
      "execution_count": 146,
      "outputs": [
        {
          "output_type": "display_data",
          "data": {
            "image/png": "[encoded data removed]",
            "text/plain": [
              "<Figure size 864x576 with 1 Axes>"
            ]
          },
          "metadata": {
            "needs_background": "light"
          }
        }
      ]
    },
    {
      "cell_type": "code",
      "metadata": {
        "colab": {
          "base_uri": "https://localhost:8080/",
          "height": 497
        },
        "id": "LsCttzJ6MGgf",
        "outputId": "895c3218-20b4-40f4-a614-182fc05949cc"
      },
      "source": [
        "plotter(m_histories, ylim=[0.0, 1.1], metric = 'accuracy')"
      ],
      "execution_count": 147,
      "outputs": [
        {
          "output_type": "display_data",
          "data": {
            "image/png": "[encoded data removed]",
            "text/plain": [
              "<Figure size 864x576 with 1 Axes>"
            ]
          },
          "metadata": {
            "needs_background": "light"
          }
        }
      ]
    },
    {
      "cell_type": "code",
      "metadata": {
        "colab": {
          "base_uri": "https://localhost:8080/"
        },
        "id": "ehEMS46OSIuU",
        "outputId": "7b70026a-32d4-4abf-9615-77397474d5ff"
      },
      "source": [
        "Y_predict_BI = model_Bi_LSTM.predict([X1_test,X2_test])\n",
        "Y_predict_BI = np.argmax(Y_predict_BI, axis = 1)\n",
        "\n",
        "print(classification_report(Y_test,Y_predict_BI))"
      ],
      "execution_count": 148,
      "outputs": [
        {
          "output_type": "stream",
          "name": "stdout",
          "text": [
            "              precision    recall  f1-score   support\n",
            "\n",
            "           0       0.79      0.65      0.71      1353\n",
            "           1       0.20      0.35      0.25       153\n",
            "           2       0.16      0.25      0.20       156\n",
            "           3       0.23      0.28      0.25       194\n",
            "\n",
            "    accuracy                           0.55      1856\n",
            "   macro avg       0.34      0.38      0.35      1856\n",
            "weighted avg       0.63      0.55      0.58      1856\n",
            "\n"
          ]
        }
      ]
    },
    {
      "cell_type": "code",
      "metadata": {
        "colab": {
          "base_uri": "https://localhost:8080/",
          "height": 404
        },
        "id": "QzNVYgheSI9S",
        "outputId": "fe92870c-50d2-4b95-dc57-5a9aae92d285"
      },
      "source": [
        "plot_Confusion_Matric(Y_test,Y_predict_BI)"
      ],
      "execution_count": 149,
      "outputs": [
        {
          "output_type": "display_data",
          "data": {
            "image/png": "[encoded data removed]",
            "text/plain": [
              "<Figure size 720x432 with 2 Axes>"
            ]
          },
          "metadata": {
            "needs_background": "light"
          }
        }
      ]
    },
    {
      "cell_type": "markdown",
      "metadata": {
        "id": "8y2WEFj0p6Qv"
      },
      "source": [
        "Bidirectional LSTM has worked quite well."
      ]
    },
    {
      "cell_type": "code",
      "metadata": {
        "id": "myjxxcqYp4Q_"
      },
      "source": [
        "model_Bi_LSTM.save(\"model_BTL.h5\")\n",
        "!cp -R ./model_BTL.h5 /content/drive/MyDrive/Assign2/"
      ],
      "execution_count": 200,
      "outputs": []
    },
    {
      "cell_type": "markdown",
      "metadata": {
        "id": "QIaGbgs6qY0Z"
      },
      "source": [
        "Test on Independent Dataset"
      ]
    },
    {
      "cell_type": "code",
      "metadata": {
        "id": "AggAjt51p4TG"
      },
      "source": [
        "test_data = pd.read_excel('/content/drive/MyDrive/Assign2/test_data.xlsx')"
      ],
      "execution_count": 229,
      "outputs": []
    },
    {
      "cell_type": "code",
      "metadata": {
        "colab": {
          "base_uri": "https://localhost:8080/"
        },
        "id": "zxyPaMB07UFw",
        "outputId": "70cdcaab-9b15-476e-cff5-a3676f1fa60b"
      },
      "source": [
        "test_data.shape"
      ],
      "execution_count": 230,
      "outputs": [
        {
          "output_type": "execute_result",
          "data": {
            "text/plain": [
              "(49, 6)"
            ]
          },
          "metadata": {},
          "execution_count": 230
        }
      ]
    },
    {
      "cell_type": "code",
      "metadata": {
        "colab": {
          "base_uri": "https://localhost:8080/",
          "height": 204
        },
        "id": "KfU5qM07p4Xh",
        "outputId": "b11cf214-b013-459e-b80b-8628d639e59a"
      },
      "source": [
        "test_data.head()"
      ],
      "execution_count": 231,
      "outputs": [
        {
          "output_type": "execute_result",
          "data": {
            "text/html": [
              "<div>\n",
              "<style scoped>\n",
              "    .dataframe tbody tr th:only-of-type {\n",
              "        vertical-align: middle;\n",
              "    }\n",
              "\n",
              "    .dataframe tbody tr th {\n",
              "        vertical-align: top;\n",
              "    }\n",
              "\n",
              "    .dataframe thead th {\n",
              "        text-align: right;\n",
              "    }\n",
              "</style>\n",
              "<table border=\"1\" class=\"dataframe\">\n",
              "  <thead>\n",
              "    <tr style=\"text-align: right;\">\n",
              "      <th></th>\n",
              "      <th>Type</th>\n",
              "      <th>Msg_ID</th>\n",
              "      <th>Source_Msg_ID</th>\n",
              "      <th>Text</th>\n",
              "      <th>Topic</th>\n",
              "      <th>Class</th>\n",
              "    </tr>\n",
              "  </thead>\n",
              "  <tbody>\n",
              "    <tr>\n",
              "      <th>0</th>\n",
              "      <td>Source</td>\n",
              "      <td>5810001</td>\n",
              "      <td>-1</td>\n",
              "      <td>#4AW: I promised not to raise taxes on anyone ...</td>\n",
              "      <td>None</td>\n",
              "      <td>-1</td>\n",
              "    </tr>\n",
              "    <tr>\n",
              "      <th>1</th>\n",
              "      <td>Reply</td>\n",
              "      <td>5810001</td>\n",
              "      <td>5810001</td>\n",
              "      <td>R @opts There should be no pissed off blue col...</td>\n",
              "      <td>None</td>\n",
              "      <td>comment</td>\n",
              "    </tr>\n",
              "    <tr>\n",
              "      <th>2</th>\n",
              "      <td>Reply</td>\n",
              "      <td>5810001</td>\n",
              "      <td>5810001</td>\n",
              "      <td>Thank you, Mr President. You have my full supp...</td>\n",
              "      <td>None</td>\n",
              "      <td>support</td>\n",
              "    </tr>\n",
              "    <tr>\n",
              "      <th>3</th>\n",
              "      <td>Source</td>\n",
              "      <td>5810002</td>\n",
              "      <td>-1</td>\n",
              "      <td>#ASDF: Indian president is going to reduce the...</td>\n",
              "      <td>None</td>\n",
              "      <td>-1</td>\n",
              "    </tr>\n",
              "    <tr>\n",
              "      <th>4</th>\n",
              "      <td>Reply</td>\n",
              "      <td>5810002</td>\n",
              "      <td>5810002</td>\n",
              "      <td>a 1 @SDRT I don't think so.</td>\n",
              "      <td>None</td>\n",
              "      <td>deny</td>\n",
              "    </tr>\n",
              "  </tbody>\n",
              "</table>\n",
              "</div>"
            ],
            "text/plain": [
              "     Type   Msg_ID  ...  Topic    Class\n",
              "0  Source  5810001  ...   None       -1\n",
              "1   Reply  5810001  ...   None  comment\n",
              "2   Reply  5810001  ...   None  support\n",
              "3  Source  5810002  ...   None       -1\n",
              "4   Reply  5810002  ...   None     deny\n",
              "\n",
              "[5 rows x 6 columns]"
            ]
          },
          "metadata": {},
          "execution_count": 231
        }
      ]
    },
    {
      "cell_type": "code",
      "metadata": {
        "id": "ipi14B7Fp4Zq"
      },
      "source": [
        "#Text Cleaning - pre processing regEx, removing punctuation, @user, special characters and stopped words\n",
        "# for 'Text' and '' variable\n",
        "test_data[\"Text\"]= test_data[\"Text\"].apply(lambda x: x.lower()) #conver words into lower case\n",
        "test_data[\"Text\"] =  [re.sub(r'https?:\\/\\/.*[\\r\\n]*','', str(x)) for x in test_data[\"Text\"]] #remove hyperlinks\n",
        "test_data[\"Text\"] =  [re.sub(r'@[a-z]+','', str(x)) for x in test_data[\"Text\"]] #remove @ from the text\n",
        "test_data[\"Text\"] =  [re.sub(r'[^a-zA-Z\\s]','', str(x)) for x in test_data[\"Text\"]] #remove special characters\n",
        "test_data[\"Text\"] = test_data[\"Text\"].apply(lambda words: ' '.join(word.lower() for word in words.split() if len(word) > 1)) # remove single char"
      ],
      "execution_count": 232,
      "outputs": []
    },
    {
      "cell_type": "code",
      "metadata": {
        "id": "gPw6L-Gqp4b8"
      },
      "source": [
        "stopped = stopwords.words(\"english\")\n",
        "stopped.remove('not')\n",
        "\n",
        "for i in stopped:\n",
        "  if(\"n'\" in i):\n",
        "    stopped.remove(i)"
      ],
      "execution_count": 233,
      "outputs": []
    },
    {
      "cell_type": "code",
      "metadata": {
        "id": "lx6lzfu7zuX-"
      },
      "source": [
        "# remove stopwords\n",
        "test_data['Text'] = test_data['Text'].apply(lambda words: ' '.join(word for word in words.split() if word not in stopped))"
      ],
      "execution_count": 234,
      "outputs": []
    },
    {
      "cell_type": "code",
      "metadata": {
        "id": "pL6fofqwzuaN"
      },
      "source": [
        "porter_stemmer = PorterStemmer()\n",
        "\n",
        "def porter_stem_text(text):\n",
        "    words = text.split()\n",
        "    stemmed_words = [porter_stemmer.stem(word) for word in words]\n",
        "    return ' '.join(stemmed_words)"
      ],
      "execution_count": 235,
      "outputs": []
    },
    {
      "cell_type": "code",
      "metadata": {
        "id": "xORFa0uJzufZ"
      },
      "source": [
        "test_data[\"Text\"] = test_data[\"Text\"].apply(porter_stem_text)"
      ],
      "execution_count": 236,
      "outputs": []
    },
    {
      "cell_type": "code",
      "metadata": {
        "colab": {
          "base_uri": "https://localhost:8080/"
        },
        "id": "_AUji48W7jeI",
        "outputId": "6cdc027a-e012-4203-a0b3-347051eb1f01"
      },
      "source": [
        "test_data.shape"
      ],
      "execution_count": 237,
      "outputs": [
        {
          "output_type": "execute_result",
          "data": {
            "text/plain": [
              "(49, 6)"
            ]
          },
          "metadata": {},
          "execution_count": 237
        }
      ]
    },
    {
      "cell_type": "code",
      "metadata": {
        "id": "YK5QIJNb0D1w"
      },
      "source": [
        "Type_Source = []\n",
        "for i, row in test_data.iterrows():\n",
        "  if row['Type'] == 'Source':\n",
        "    new_source = row['Text']\n",
        "    msg_id = row['Msg_ID']\n",
        "  if msg_id == row['Source_Msg_ID']:\n",
        "    Type_Source.append(new_source)"
      ],
      "execution_count": 238,
      "outputs": []
    },
    {
      "cell_type": "code",
      "metadata": {
        "colab": {
          "base_uri": "https://localhost:8080/"
        },
        "id": "Syi13bgL0D5D",
        "outputId": "f8e95916-7884-4cc3-ce36-015d827430c4"
      },
      "source": [
        "len(Type_Source)"
      ],
      "execution_count": 239,
      "outputs": [
        {
          "output_type": "execute_result",
          "data": {
            "text/plain": [
              "46"
            ]
          },
          "metadata": {},
          "execution_count": 239
        }
      ]
    },
    {
      "cell_type": "code",
      "metadata": {
        "id": "6441NMMr0D7-"
      },
      "source": [
        "test_data = test_data.loc[test_data['Type'] != 'Source']"
      ],
      "execution_count": 240,
      "outputs": []
    },
    {
      "cell_type": "code",
      "metadata": {
        "colab": {
          "base_uri": "https://localhost:8080/"
        },
        "id": "QQmjgetS0D-0",
        "outputId": "c1e82cf7-412e-4d70-a3e8-14e9f50ed7ac"
      },
      "source": [
        "len(test_data)"
      ],
      "execution_count": 211,
      "outputs": [
        {
          "output_type": "execute_result",
          "data": {
            "text/plain": [
              "46"
            ]
          },
          "metadata": {},
          "execution_count": 211
        }
      ]
    },
    {
      "cell_type": "code",
      "metadata": {
        "id": "-jlgIEKw0EB0"
      },
      "source": [
        "test_data['New_Source'] = Type_Source\n",
        "\n",
        "test_data = test_data.reset_index(drop=True)"
      ],
      "execution_count": 241,
      "outputs": []
    },
    {
      "cell_type": "code",
      "metadata": {
        "colab": {
          "base_uri": "https://localhost:8080/",
          "height": 204
        },
        "id": "7XpK4zAi0iee",
        "outputId": "0904484c-0585-4d8a-ff28-1f3d69724cea"
      },
      "source": [
        "test_data.head()"
      ],
      "execution_count": 242,
      "outputs": [
        {
          "output_type": "execute_result",
          "data": {
            "text/html": [
              "<div>\n",
              "<style scoped>\n",
              "    .dataframe tbody tr th:only-of-type {\n",
              "        vertical-align: middle;\n",
              "    }\n",
              "\n",
              "    .dataframe tbody tr th {\n",
              "        vertical-align: top;\n",
              "    }\n",
              "\n",
              "    .dataframe thead th {\n",
              "        text-align: right;\n",
              "    }\n",
              "</style>\n",
              "<table border=\"1\" class=\"dataframe\">\n",
              "  <thead>\n",
              "    <tr style=\"text-align: right;\">\n",
              "      <th></th>\n",
              "      <th>Type</th>\n",
              "      <th>Msg_ID</th>\n",
              "      <th>Source_Msg_ID</th>\n",
              "      <th>Text</th>\n",
              "      <th>Topic</th>\n",
              "      <th>Class</th>\n",
              "      <th>New_Source</th>\n",
              "    </tr>\n",
              "  </thead>\n",
              "  <tbody>\n",
              "    <tr>\n",
              "      <th>0</th>\n",
              "      <td>Reply</td>\n",
              "      <td>5810001</td>\n",
              "      <td>5810001</td>\n",
              "      <td>piss blue collar worker comment sectiond</td>\n",
              "      <td>None</td>\n",
              "      <td>comment</td>\n",
              "      <td>aw promis not rais tax anyon make year</td>\n",
              "    </tr>\n",
              "    <tr>\n",
              "      <th>1</th>\n",
              "      <td>Reply</td>\n",
              "      <td>5810001</td>\n",
              "      <td>5810001</td>\n",
              "      <td>thank mr presid full support</td>\n",
              "      <td>None</td>\n",
              "      <td>support</td>\n",
              "      <td>aw promis not rais tax anyon make year</td>\n",
              "    </tr>\n",
              "    <tr>\n",
              "      <th>2</th>\n",
              "      <td>Reply</td>\n",
              "      <td>5810002</td>\n",
              "      <td>5810002</td>\n",
              "      <td>dont think</td>\n",
              "      <td>None</td>\n",
              "      <td>deny</td>\n",
              "      <td>asdf indian presid go reduc oil price</td>\n",
              "    </tr>\n",
              "    <tr>\n",
              "      <th>3</th>\n",
              "      <td>Reply</td>\n",
              "      <td>5810002</td>\n",
              "      <td>5810002</td>\n",
              "      <td>fake news</td>\n",
              "      <td>None</td>\n",
              "      <td>deny</td>\n",
              "      <td>asdf indian presid go reduc oil price</td>\n",
              "    </tr>\n",
              "    <tr>\n",
              "      <th>4</th>\n",
              "      <td>Reply</td>\n",
              "      <td>5810002</td>\n",
              "      <td>5810002</td>\n",
              "      <td>aa price reducton help increas economi</td>\n",
              "      <td>None</td>\n",
              "      <td>comment</td>\n",
              "      <td>asdf indian presid go reduc oil price</td>\n",
              "    </tr>\n",
              "  </tbody>\n",
              "</table>\n",
              "</div>"
            ],
            "text/plain": [
              "    Type   Msg_ID  ...    Class                              New_Source\n",
              "0  Reply  5810001  ...  comment  aw promis not rais tax anyon make year\n",
              "1  Reply  5810001  ...  support  aw promis not rais tax anyon make year\n",
              "2  Reply  5810002  ...     deny   asdf indian presid go reduc oil price\n",
              "3  Reply  5810002  ...     deny   asdf indian presid go reduc oil price\n",
              "4  Reply  5810002  ...  comment   asdf indian presid go reduc oil price\n",
              "\n",
              "[5 rows x 7 columns]"
            ]
          },
          "metadata": {},
          "execution_count": 242
        }
      ]
    },
    {
      "cell_type": "code",
      "metadata": {
        "id": "XDZewJr20ig_"
      },
      "source": [
        "# cleaned_test = test_data"
      ],
      "execution_count": 214,
      "outputs": []
    },
    {
      "cell_type": "code",
      "metadata": {
        "id": "wkVAL74s0ima"
      },
      "source": [
        "encoder = LabelEncoder()\n",
        "test_data.insert(5,'Encoded_Class',encoder.fit_transform(test_data['Class']))"
      ],
      "execution_count": 243,
      "outputs": []
    },
    {
      "cell_type": "code",
      "metadata": {
        "id": "0tCpVWdj0ipj"
      },
      "source": [
        "tokenizer_obj.fit_on_texts(test_data['Text'].values)\n",
        "X3 = tokenizer_obj.texts_to_sequences(test_data['Text'].values)\n",
        "\n",
        "tokenizer_obj.fit_on_texts(test_data['New_Source'].values)\n",
        "X4 = tokenizer_obj.texts_to_sequences(test_data['New_Source'].values)"
      ],
      "execution_count": 244,
      "outputs": []
    },
    {
      "cell_type": "code",
      "metadata": {
        "colab": {
          "base_uri": "https://localhost:8080/"
        },
        "id": "To4g19bWzuh_",
        "outputId": "9321c287-ee9f-4e4f-ba0a-5c6f251c6d5e"
      },
      "source": [
        "word_index = tokenizer_obj.word_index\n",
        "print(\"unique_tokens - \"+str(len(word_index)))"
      ],
      "execution_count": 245,
      "outputs": [
        {
          "output_type": "stream",
          "name": "stdout",
          "text": [
            "unique_tokens - 8138\n"
          ]
        }
      ]
    },
    {
      "cell_type": "code",
      "metadata": {
        "colab": {
          "base_uri": "https://localhost:8080/"
        },
        "id": "-uPeLiet2nu4",
        "outputId": "4cfd5dee-800a-44c6-c1d2-5414f2117ced"
      },
      "source": [
        "vocab_size = len(tokenizer_obj.word_index) + 1\n",
        "print('vocabulary_size - '+str(vocab_size))"
      ],
      "execution_count": 246,
      "outputs": [
        {
          "output_type": "stream",
          "name": "stdout",
          "text": [
            "vocabulary_size - 8139\n"
          ]
        }
      ]
    },
    {
      "cell_type": "code",
      "metadata": {
        "id": "ntfGCTOT2nxS"
      },
      "source": [
        "#pad each sequence to the same length\n",
        "X3 = pad_sequences(X3,maxlen= 50)\n",
        "X4 = pad_sequences(X4,maxlen= 50)"
      ],
      "execution_count": 247,
      "outputs": []
    },
    {
      "cell_type": "code",
      "metadata": {
        "id": "hQHdaE1Q2n4l"
      },
      "source": [
        "Y = test_data['Encoded_Class']"
      ],
      "execution_count": 248,
      "outputs": []
    },
    {
      "cell_type": "code",
      "metadata": {
        "id": "W5ig1mKi3N1L"
      },
      "source": [
        "Y_predicted_test = model_Bi_LSTM.predict([X3,X4])\n",
        "Y_predicted_test = np.argmax(Y_predicted_test, axis = 1)"
      ],
      "execution_count": 249,
      "outputs": []
    },
    {
      "cell_type": "code",
      "metadata": {
        "colab": {
          "base_uri": "https://localhost:8080/"
        },
        "id": "CHTwS_GG66DB",
        "outputId": "820d4119-e0c1-4ecf-af1c-f4301ec38c95"
      },
      "source": [
        "Y_predicted_test"
      ],
      "execution_count": 250,
      "outputs": [
        {
          "output_type": "execute_result",
          "data": {
            "text/plain": [
              "array([0, 0, 0, 0, 0, 0, 0, 2, 2, 0, 0, 2, 0, 0, 0, 0, 0, 0, 0, 0, 0, 3,\n",
              "       0, 0, 0, 0, 0, 0, 2, 0, 0, 0, 0, 0, 0, 0, 0, 0, 3, 3, 0, 0, 3, 0,\n",
              "       0, 0])"
            ]
          },
          "metadata": {},
          "execution_count": 250
        }
      ]
    },
    {
      "cell_type": "code",
      "metadata": {
        "colab": {
          "base_uri": "https://localhost:8080/"
        },
        "id": "3dxAC7K27Aoh",
        "outputId": "1e619b43-24fc-442d-ce25-5df30165988c"
      },
      "source": [
        "len(Y_predicted_test)"
      ],
      "execution_count": 251,
      "outputs": [
        {
          "output_type": "execute_result",
          "data": {
            "text/plain": [
              "46"
            ]
          },
          "metadata": {},
          "execution_count": 251
        }
      ]
    },
    {
      "cell_type": "code",
      "metadata": {
        "colab": {
          "base_uri": "https://localhost:8080/"
        },
        "id": "NEvWVJQg3N3d",
        "outputId": "180fd224-c7a6-4263-a7af-035ee775aa47"
      },
      "source": [
        "print(classification_report(Y,Y_predicted_test))"
      ],
      "execution_count": 252,
      "outputs": [
        {
          "output_type": "stream",
          "name": "stdout",
          "text": [
            "              precision    recall  f1-score   support\n",
            "\n",
            "           0       0.71      0.84      0.77        32\n",
            "           1       0.00      0.00      0.00         7\n",
            "           2       0.00      0.00      0.00         4\n",
            "           3       0.00      0.00      0.00         3\n",
            "\n",
            "    accuracy                           0.59        46\n",
            "   macro avg       0.18      0.21      0.19        46\n",
            "weighted avg       0.49      0.59      0.54        46\n",
            "\n"
          ]
        },
        {
          "output_type": "stream",
          "name": "stderr",
          "text": [
            "/usr/local/lib/python3.7/dist-packages/sklearn/metrics/_classification.py:1272: UndefinedMetricWarning: Precision and F-score are ill-defined and being set to 0.0 in labels with no predicted samples. Use `zero_division` parameter to control this behavior.\n",
            "  _warn_prf(average, modifier, msg_start, len(result))\n"
          ]
        }
      ]
    },
    {
      "cell_type": "code",
      "metadata": {
        "colab": {
          "base_uri": "https://localhost:8080/",
          "height": 404
        },
        "id": "opvyzDuH3N8s",
        "outputId": "17b0d2cf-ab03-4196-99ae-041d234a9542"
      },
      "source": [
        "#confusion Matrics\n",
        "plot_Confusion_Matric(Y,Y_predicted_test)"
      ],
      "execution_count": 253,
      "outputs": [
        {
          "output_type": "display_data",
          "data": {
            "image/png": "[encoded data removed]",
            "text/plain": [
              "<Figure size 720x432 with 2 Axes>"
            ]
          },
          "metadata": {
            "needs_background": "light"
          }
        }
      ]
    }
  ]
}